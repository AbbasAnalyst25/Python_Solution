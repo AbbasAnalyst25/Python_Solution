{
  "nbformat": 4,
  "nbformat_minor": 0,
  "metadata": {
    "colab": {
      "name": "Python_Solution3.ipynb",
      "provenance": [],
      "collapsed_sections": [],
      "authorship_tag": "ABX9TyMrdXBD0e0/ERB0i+lb7nmD"
    },
    "kernelspec": {
      "name": "python3",
      "display_name": "Python 3"
    },
    "language_info": {
      "name": "python"
    }
  },
  "cells": [
    {
      "cell_type": "markdown",
      "source": [
        "**Python Data Structure Exercise**\n",
        "---\n",
        "\n",
        "\n",
        "\n"
      ],
      "metadata": {
        "id": "3myQx8qQN-kF"
      }
    },
    {
      "cell_type": "markdown",
      "source": [
        "**Exercise 1: Create a list by picking an odd-index items from the first list and even index items from the second**"
      ],
      "metadata": {
        "id": "C0ZThyyPFKFv"
      }
    },
    {
      "cell_type": "code",
      "execution_count": 1,
      "metadata": {
        "colab": {
          "base_uri": "https://localhost:8080/"
        },
        "id": "HUrR3YDaFG-D",
        "outputId": "570fbcd5-ee15-43af-a9e9-289fbe3f876a"
      },
      "outputs": [
        {
          "output_type": "stream",
          "name": "stdout",
          "text": [
            "Element at odd-index positions from list one: \n",
            "\n",
            " [6, 12, 18] \n",
            "\n",
            "Element at even-index positions from list two: \n",
            "\n",
            " [4, 12, 20, 28] \n",
            "\n",
            "Printing Final third list:\n",
            "\n",
            " [6, 12, 18, 4, 12, 20, 28] \n",
            "\n"
          ]
        }
      ],
      "source": [
        "l1 = [3, 6, 9, 12, 15, 18, 21]\n",
        "l2 = [4, 8, 12, 16, 20, 24, 28]\n",
        "print('Element at odd-index positions from list one: ')\n",
        "odd = []\n",
        "for x in l1:\n",
        "  odd = l1[1::2]\n",
        "print('\\n',odd,'\\n')\n",
        "\n",
        "even = []\n",
        "print('Element at even-index positions from list two: ')\n",
        "\n",
        "for i in l2:\n",
        "  even =l2[0::2]\n",
        "print('\\n',even,'\\n')\n",
        "\n",
        "print('Printing Final third list:')\n",
        "l3 = odd + even\n",
        "print('\\n',l3,'\\n')\n"
      ]
    },
    {
      "cell_type": "markdown",
      "source": [
        "**Exercise 2: Remove and add item in a list**"
      ],
      "metadata": {
        "id": "x6bJlqMjFKc7"
      }
    },
    {
      "cell_type": "code",
      "source": [
        "list1 = [54, 44, 27, 79, 91, 41]\n",
        "\n",
        "print('Original list:')\n",
        "print(list1)\n",
        "\n",
        "print('\\n')\n",
        "\n",
        "x = list1.pop(4)\n",
        "print('List After removing element at index 4:')\n",
        "print(list1)\n",
        "\n",
        "print('\\n')\n",
        "\n",
        "print('List after Adding element at index 2 ')\n",
        "list1.insert(2,x)\n",
        "print(list1)\n",
        "\n",
        "print('\\n')\n",
        "\n",
        "list1.append(x)\n",
        "print(list1)"
      ],
      "metadata": {
        "id": "Wk4lqAdgFKzG",
        "colab": {
          "base_uri": "https://localhost:8080/"
        },
        "outputId": "71debb93-0253-4292-fe08-1de09e47cf54"
      },
      "execution_count": 2,
      "outputs": [
        {
          "output_type": "stream",
          "name": "stdout",
          "text": [
            "Original list:\n",
            "[54, 44, 27, 79, 91, 41]\n",
            "\n",
            "\n",
            "List After removing element at index 4:\n",
            "[54, 44, 27, 79, 41]\n",
            "\n",
            "\n",
            "List after Adding element at index 2 \n",
            "[54, 44, 91, 27, 79, 41]\n",
            "\n",
            "\n",
            "[54, 44, 91, 27, 79, 41, 91]\n"
          ]
        }
      ]
    },
    {
      "cell_type": "markdown",
      "source": [
        "**Exercise 3: Slice list into 3 equal chunks and reverse each chunk**"
      ],
      "metadata": {
        "id": "yR1yTLyW2gKV"
      }
    },
    {
      "cell_type": "code",
      "source": [
        "sample_list = [11, 45, 8, 23, 14, 12, 78, 45, 89]\n",
        "\n",
        "\n",
        "Chunk1 = sample_list[0:3]\n",
        "print('Chunk 1: ',Chunk1)\n",
        "Chunk1.reverse()\n",
        "print('After reversing it: ',Chunk1)\n",
        "\n",
        "print('\\n')\n",
        "\n",
        "Chunk2 = sample_list[3:6]\n",
        "print('Chunk 2: ',Chunk2)\n",
        "Chunk2.reverse()\n",
        "print('After reversing it: ',Chunk2)\n",
        "\n",
        "print('\\n')\n",
        "\n",
        "Chunk3 = sample_list[6:]\n",
        "print('Chunk 3: ',Chunk3)\n",
        "Chunk3.reverse()\n",
        "print('After reversing it: ',Chunk3)"
      ],
      "metadata": {
        "colab": {
          "base_uri": "https://localhost:8080/"
        },
        "id": "CFDzBnK48BU_",
        "outputId": "770f56d2-bfcd-4318-d7d5-3a431ee24d9d"
      },
      "execution_count": 3,
      "outputs": [
        {
          "output_type": "stream",
          "name": "stdout",
          "text": [
            "Chunk 1:  [11, 45, 8]\n",
            "After reversing it:  [8, 45, 11]\n",
            "\n",
            "\n",
            "Chunk 2:  [23, 14, 12]\n",
            "After reversing it:  [12, 14, 23]\n",
            "\n",
            "\n",
            "Chunk 3:  [78, 45, 89]\n",
            "After reversing it:  [89, 45, 78]\n"
          ]
        }
      ]
    },
    {
      "cell_type": "code",
      "source": [
        "#Anathor Answer \n",
        "\n",
        "sample_list = [11, 45, 8, 23, 14, 12, 78, 45, 89]\n",
        "\n",
        "c1 = sample_list[0:3]\n",
        "\n",
        "print('Chunk 1',c1)\n",
        "rc1 = c1[::-1]\n",
        "print('After reversing it ', rc1)\n",
        "print('\\n')\n",
        "c2 = sample_list[3:6]\n",
        "print('Chunk 2',c2)\n",
        "rc2 = c2[::-1]\n",
        "print('After reversing it ',rc2)\n",
        "print('\\n')\n",
        "c3 = sample_list[6:]\n",
        "print('Chunk 3',c3)\n",
        "rc3 = c3[::-1]\n",
        "print('After reversing it ',rc3)"
      ],
      "metadata": {
        "colab": {
          "base_uri": "https://localhost:8080/"
        },
        "id": "t_mi3HZk2fjw",
        "outputId": "2f85af4d-0003-42d0-d471-2108f2cdd6e3"
      },
      "execution_count": 4,
      "outputs": [
        {
          "output_type": "stream",
          "name": "stdout",
          "text": [
            "Chunk 1 [11, 45, 8]\n",
            "After reversing it  [8, 45, 11]\n",
            "\n",
            "\n",
            "Chunk 2 [23, 14, 12]\n",
            "After reversing it  [12, 14, 23]\n",
            "\n",
            "\n",
            "Chunk 3 [78, 45, 89]\n",
            "After reversing it  [89, 45, 78]\n"
          ]
        }
      ]
    },
    {
      "cell_type": "markdown",
      "source": [
        "**Exercise 4: Count the occurrence of each element from a list**"
      ],
      "metadata": {
        "id": "sKFkGqY5A6Mf"
      }
    },
    {
      "cell_type": "code",
      "source": [
        "sample_list = [11, 45, 8, 11, 23, 45, 23, 45, 89]\n",
        "dict = {}\n",
        "for i in sample_list:\n",
        "    if i in dict:\n",
        "        dict[i] += 1\n",
        "    else:\n",
        "        dict[i] = 1\n",
        "\n",
        "print(\"Printing count of each item  \", dict)"
      ],
      "metadata": {
        "colab": {
          "base_uri": "https://localhost:8080/"
        },
        "id": "Pg9GbR6kA6AX",
        "outputId": "afdbff8c-8a4d-4847-8a9a-5ed6565d5f07"
      },
      "execution_count": 5,
      "outputs": [
        {
          "output_type": "stream",
          "name": "stdout",
          "text": [
            "Printing count of each item   {11: 2, 45: 3, 8: 1, 23: 2, 89: 1}\n"
          ]
        }
      ]
    },
    {
      "cell_type": "markdown",
      "source": [
        "**Exercise 5: Create a Python set such that it shows the element from both lists in a pair**"
      ],
      "metadata": {
        "id": "h-KlREoX5dYl"
      }
    },
    {
      "cell_type": "code",
      "source": [
        "list1 = [2, 3, 4, 5, 6, 7, 8] \n",
        "list2 = [4, 9, 16, 25, 36, 49, 64]\n",
        "\n",
        "result = zip(list1, list2)\n",
        "result_set = set(result)\n",
        "print(result_set)"
      ],
      "metadata": {
        "id": "vLB461I93BTe",
        "colab": {
          "base_uri": "https://localhost:8080/"
        },
        "outputId": "e7a7d136-d40c-4d14-dbd4-3e18e1d75618"
      },
      "execution_count": 6,
      "outputs": [
        {
          "output_type": "stream",
          "name": "stdout",
          "text": [
            "{(6, 36), (8, 64), (4, 16), (5, 25), (3, 9), (7, 49), (2, 4)}\n"
          ]
        }
      ]
    },
    {
      "cell_type": "markdown",
      "source": [
        "**Exercise 6: Find the intersection (common) of two sets and remove those elements from the first set**"
      ],
      "metadata": {
        "id": "ZmZ70_ZQY1DY"
      }
    },
    {
      "cell_type": "code",
      "source": [
        "set1 = {23, 42, 65, 57, 78, 83, 29}\n",
        "set2 = {57, 83, 29, 67, 73, 43, 48}\n",
        "\n",
        "set3 = set2 & set1\n",
        "\n",
        "print('Intersection is: ',set3)\n",
        "for i in set3:\n",
        "  set1.remove(i)\n",
        "print('First Set after removing common element:', set1)"
      ],
      "metadata": {
        "colab": {
          "base_uri": "https://localhost:8080/"
        },
        "id": "t-K0nuhwY4BV",
        "outputId": "3287e577-aefe-43d7-9963-e962d2832af2"
      },
      "execution_count": 7,
      "outputs": [
        {
          "output_type": "stream",
          "name": "stdout",
          "text": [
            "Intersection is:  {57, 83, 29}\n",
            "First Set after removing common element: {65, 42, 78, 23}\n"
          ]
        }
      ]
    },
    {
      "cell_type": "markdown",
      "source": [
        "**Exercise 7: Checks if one set is a subset or superset of another set. If found, delete all elements from that set**"
      ],
      "metadata": {
        "id": "4D8DRR92adN5"
      }
    },
    {
      "cell_type": "code",
      "source": [
        "set1 = {27, 43, 34}\n",
        "set2 = {34, 93, 22, 27, 43, 53, 48}\n",
        "\n",
        "print('First set is subset of second set - ', set1.issubset(set2))\n",
        "\n",
        "print('Second set is subset of First set - ', set2.issubset(set1))\n",
        "\n",
        "\n",
        "print('First set is Super set of second set - ', set1.issuperset(set2))\n",
        "print('Second set is Super set of First set -', set2.issuperset(set1))\n",
        "\n",
        "if set1.issubset(set2):\n",
        "    set1.clear()\n",
        "\n",
        "if set2.issubset(set1):\n",
        "    set1.clear()\n",
        "print('First Set ', set1)\n",
        "print('Second Set ', set2)"
      ],
      "metadata": {
        "colab": {
          "base_uri": "https://localhost:8080/"
        },
        "id": "Cr9qg-8ladAK",
        "outputId": "bd16ff03-18c1-4835-bb10-d6bae075f837"
      },
      "execution_count": 8,
      "outputs": [
        {
          "output_type": "stream",
          "name": "stdout",
          "text": [
            "First set is subset of second set -  True\n",
            "Second set is subset of First set -  False\n",
            "First set is Super set of second set -  False\n",
            "Second set is Super set of First set - True\n",
            "First Set  set()\n",
            "Second Set  {34, 43, 48, 53, 22, 27, 93}\n"
          ]
        }
      ]
    },
    {
      "cell_type": "markdown",
      "source": [
        "**Exercise 8: Iterate a given list and check if a given\n",
        "element exists as a key’s value in a dictionary. If not,\n",
        "delete it from the list**"
      ],
      "metadata": {
        "id": "r8PxZoXvBWOB"
      }
    },
    {
      "cell_type": "code",
      "source": [
        "roll_number = [47, 64, 69, 37, 76, 83, 95, 97]\n",
        "sample_dict = {'Jhon':47, 'Emma':69, 'Kelly':76, 'Jason':97}\n",
        "\n",
        "for i in roll_number:\n",
        "  if i in sample_dict.values():\n",
        "    roll_number.remove(i)\n",
        "print(roll_number)"
      ],
      "metadata": {
        "colab": {
          "base_uri": "https://localhost:8080/"
        },
        "id": "i1AzVWkzBY95",
        "outputId": "e9165124-31a2-4fc1-a3fd-02754362930a"
      },
      "execution_count": 9,
      "outputs": [
        {
          "output_type": "stream",
          "name": "stdout",
          "text": [
            "[64, 37, 83, 95]\n"
          ]
        }
      ]
    },
    {
      "cell_type": "markdown",
      "source": [
        "**Exercise 9: Get all values from the dictionary and add them to a list but don’t add duplicates**"
      ],
      "metadata": {
        "id": "ew3uieBdM300"
      }
    },
    {
      "cell_type": "code",
      "source": [
        "speed = {'jan': 47, 'feb': 52, 'march': 47, 'April': 44, 'May': 52, 'June': 53,\n",
        "'july': 54, 'Aug': 44, 'Sept': 54}\n",
        "\n",
        "list1 = []\n",
        "\n",
        "for i in speed.values():\n",
        "  if i not in list1:\n",
        "      list1.append(i)\n",
        "list1\n"
      ],
      "metadata": {
        "colab": {
          "base_uri": "https://localhost:8080/"
        },
        "id": "zb_3h5oFMxmn",
        "outputId": "1777db5e-2e37-484e-bd6b-d8f9c9e2268f"
      },
      "execution_count": 10,
      "outputs": [
        {
          "output_type": "execute_result",
          "data": {
            "text/plain": [
              "[47, 52, 44, 53, 54]"
            ]
          },
          "metadata": {},
          "execution_count": 10
        }
      ]
    },
    {
      "cell_type": "markdown",
      "source": [
        "**Exercise 10: Remove duplicates from a list and create a tuple and find the minimum and maximum number**"
      ],
      "metadata": {
        "id": "M0E8W66sMyMO"
      }
    },
    {
      "cell_type": "code",
      "source": [
        "sample_list = [87, 45, 41, 65, 94, 41, 99, 94]\n",
        "list1 = []\n",
        "for i in sample_list:\n",
        "  if i not in list1:\n",
        "    list1.append(i)\n",
        "list1\n",
        "print('unique items: ',list1 )\n",
        "print('tuple:', tuple(list1))\n",
        "print('min: ', min(list1))\n",
        "print('max: ', max(list1))"
      ],
      "metadata": {
        "colab": {
          "base_uri": "https://localhost:8080/"
        },
        "id": "-2dEku1eLBEV",
        "outputId": "b808a912-b19b-4561-ed20-1b889da273a7"
      },
      "execution_count": 11,
      "outputs": [
        {
          "output_type": "stream",
          "name": "stdout",
          "text": [
            "unique items:  [87, 45, 41, 65, 94, 99]\n",
            "tuple: (87, 45, 41, 65, 94, 99)\n",
            "min:  41\n",
            "max:  99\n"
          ]
        }
      ]
    },
    {
      "cell_type": "markdown",
      "source": [
        "**Python List Exercise**\n",
        "---\n",
        "\n"
      ],
      "metadata": {
        "id": "2xaOZJ6NRhsj"
      }
    },
    {
      "cell_type": "code",
      "source": [
        "list1 = [100, 200, 300, 400, 500]\n",
        "print(list1[::-1])"
      ],
      "metadata": {
        "colab": {
          "base_uri": "https://localhost:8080/"
        },
        "id": "QsCfTGGyRkur",
        "outputId": "f79f8f8d-ddac-4601-aa05-7a43e8f9ba17"
      },
      "execution_count": 12,
      "outputs": [
        {
          "output_type": "stream",
          "name": "stdout",
          "text": [
            "[500, 400, 300, 200, 100]\n"
          ]
        }
      ]
    },
    {
      "cell_type": "markdown",
      "source": [
        "**Exercise 2: Concatenate two lists index-wise**"
      ],
      "metadata": {
        "id": "ZBNZ60qsR5Vp"
      }
    },
    {
      "cell_type": "code",
      "source": [
        "list1 = [\"M\", \"na\", \"i\", \"Ke\"]\n",
        "\n",
        "list2 = [\"y\", \"me\", \"s\", \"lly\"]\n",
        "\n",
        "list3 = []\n",
        "\n",
        "list3 = [i + j for i, j in zip(list1, list2)]\n",
        "print(list3)"
      ],
      "metadata": {
        "colab": {
          "base_uri": "https://localhost:8080/"
        },
        "id": "967NWijpR48e",
        "outputId": "eb74fcf6-5bc0-41ae-a5de-4918ec91a220"
      },
      "execution_count": 13,
      "outputs": [
        {
          "output_type": "stream",
          "name": "stdout",
          "text": [
            "['My', 'name', 'is', 'Kelly']\n"
          ]
        }
      ]
    },
    {
      "cell_type": "markdown",
      "source": [
        "**Exercise 3: Turn every item of a list into its square**"
      ],
      "metadata": {
        "id": "wEuwh6FzvPA-"
      }
    },
    {
      "cell_type": "code",
      "source": [
        "numbers = [1, 2, 3, 4, 5, 6,7]\n",
        "square = []\n",
        "for i in numbers:\n",
        "  a = i * i \n",
        "  square.append(a)\n",
        "square"
      ],
      "metadata": {
        "colab": {
          "base_uri": "https://localhost:8080/"
        },
        "id": "zHOyb1oKvQZu",
        "outputId": "ebb4a8ad-b022-4d35-a369-7e00380e47ba"
      },
      "execution_count": 14,
      "outputs": [
        {
          "output_type": "execute_result",
          "data": {
            "text/plain": [
              "[1, 4, 9, 16, 25, 36, 49]"
            ]
          },
          "metadata": {},
          "execution_count": 14
        }
      ]
    },
    {
      "cell_type": "markdown",
      "source": [
        "**Exercise 4: Concatenate two lists in the following order**"
      ],
      "metadata": {
        "id": "dpNNFz_ywQzL"
      }
    },
    {
      "cell_type": "code",
      "source": [
        "list1 = [\"Hello \", \"take \"]\n",
        "list2 = [\"Dear\", \"Sir\"]\n",
        "list3 = [i + y for i in list1 for y in list2]\n",
        "print(list3)\n"
      ],
      "metadata": {
        "colab": {
          "base_uri": "https://localhost:8080/"
        },
        "id": "whz9FusJwSNS",
        "outputId": "06225aad-4daf-4996-f34f-c71593dafaec"
      },
      "execution_count": 15,
      "outputs": [
        {
          "output_type": "stream",
          "name": "stdout",
          "text": [
            "['Hello Dear', 'Hello Sir', 'take Dear', 'take Sir']\n"
          ]
        }
      ]
    },
    {
      "cell_type": "markdown",
      "source": [
        "**Exercise 5: Iterate both lists simultaneously**"
      ],
      "metadata": {
        "id": "Vpgz1habyOmJ"
      }
    },
    {
      "cell_type": "code",
      "source": [
        "list1 = [10, 20, 30, 40]\n",
        "list2 = [100, 200, 300, 400]\n",
        "\n",
        "list2.reverse()\n",
        "\n",
        "for x, y in zip(list1, list2):\n",
        "    print(x, y)"
      ],
      "metadata": {
        "colab": {
          "base_uri": "https://localhost:8080/"
        },
        "id": "XUOI3u-yyOWo",
        "outputId": "cf5375da-012d-46b0-c17d-0a024f65c871"
      },
      "execution_count": 16,
      "outputs": [
        {
          "output_type": "stream",
          "name": "stdout",
          "text": [
            "10 400\n",
            "20 300\n",
            "30 200\n",
            "40 100\n"
          ]
        }
      ]
    },
    {
      "cell_type": "markdown",
      "source": [
        "**Exercise 6: Remove empty strings from the list of strings**"
      ],
      "metadata": {
        "id": "1PKcl6bbzgKE"
      }
    },
    {
      "cell_type": "code",
      "source": [
        "list1 = [\"Mike\", \"\", \"Emma\", \"Kelly\", \"\", \"Brad\"]\n",
        "for i in list1:\n",
        "  if i ==\"\":\n",
        "    list1.remove(i)\n",
        "list1"
      ],
      "metadata": {
        "colab": {
          "base_uri": "https://localhost:8080/"
        },
        "id": "c4dFsFKuzhyl",
        "outputId": "bb739a7d-434b-4b77-f1f9-a8b6de9eb0db"
      },
      "execution_count": 17,
      "outputs": [
        {
          "output_type": "execute_result",
          "data": {
            "text/plain": [
              "['Mike', 'Emma', 'Kelly', 'Brad']"
            ]
          },
          "metadata": {},
          "execution_count": 17
        }
      ]
    },
    {
      "cell_type": "markdown",
      "source": [
        "**Exercise 7: Add new item to list after a specified item**"
      ],
      "metadata": {
        "id": "ng8C3odIz-Mj"
      }
    },
    {
      "cell_type": "code",
      "source": [
        "list1 = [10, 20, [300, 400, [5000, 6000], 500], 30, 40]\n",
        "list1[2][2].append(7000)\n",
        "list1"
      ],
      "metadata": {
        "colab": {
          "base_uri": "https://localhost:8080/"
        },
        "id": "dGaC9IPG02bk",
        "outputId": "21b39ed1-93a2-4af2-e5f2-62a9a1adc35a"
      },
      "execution_count": 18,
      "outputs": [
        {
          "output_type": "execute_result",
          "data": {
            "text/plain": [
              "[10, 20, [300, 400, [5000, 6000, 7000], 500], 30, 40]"
            ]
          },
          "metadata": {},
          "execution_count": 18
        }
      ]
    },
    {
      "cell_type": "markdown",
      "source": [
        "**Exercise 8: Extend nested list by adding the sublist**"
      ],
      "metadata": {
        "id": "xz3PCTnL1sAR"
      }
    },
    {
      "cell_type": "code",
      "source": [
        "list1 = [\"a\", \"b\", [\"c\", [\"d\", \"e\", [\"f\", \"g\"], \"k\"], \"l\"], \"m\", \"n\"]\n",
        "# sub list to add\n",
        "sub_list = [\"h\", \"i\", \"j\"]\n",
        "\n",
        "list1[2][1][2].extend(sub_list)\n",
        "print(list1)"
      ],
      "metadata": {
        "colab": {
          "base_uri": "https://localhost:8080/"
        },
        "id": "WvLPvtpAz9-a",
        "outputId": "27f5eeb0-b6d0-45a8-c44d-cc457c04a26e"
      },
      "execution_count": 19,
      "outputs": [
        {
          "output_type": "stream",
          "name": "stdout",
          "text": [
            "['a', 'b', ['c', ['d', 'e', ['f', 'g', 'h', 'i', 'j'], 'k'], 'l'], 'm', 'n']\n"
          ]
        }
      ]
    },
    {
      "cell_type": "markdown",
      "source": [
        "**Exercise 9: Replace list’s item with new value if found**"
      ],
      "metadata": {
        "id": "L1P0njaU2NIm"
      }
    },
    {
      "cell_type": "code",
      "source": [
        "list1 = [5, 10, 15, 20, 25, 50, 20]\n",
        "\n",
        "# get the first occurrence index\n",
        "x = list1.index(20)\n",
        "\n",
        "# update item present at location\n",
        "list1[x] = 200\n",
        "print(list1)"
      ],
      "metadata": {
        "colab": {
          "base_uri": "https://localhost:8080/"
        },
        "id": "a95solm1z5C7",
        "outputId": "d217a912-04d3-4182-d106-e59a8463a5f1"
      },
      "execution_count": 20,
      "outputs": [
        {
          "output_type": "stream",
          "name": "stdout",
          "text": [
            "[5, 10, 15, 200, 25, 50, 20]\n"
          ]
        }
      ]
    },
    {
      "cell_type": "markdown",
      "source": [
        "**Exercise 10: Remove all occurrences of a specific item from a list.**"
      ],
      "metadata": {
        "id": "EM3VWi_W2x80"
      }
    },
    {
      "cell_type": "code",
      "source": [
        "list1 = [5, 20, 15, 20, 25, 50, 20]\n",
        "for i in list1:\n",
        "  if i == 20:\n",
        "    list1.remove(i)\n",
        "list1"
      ],
      "metadata": {
        "colab": {
          "base_uri": "https://localhost:8080/"
        },
        "id": "EY2MM8sR20Kl",
        "outputId": "76aaa72a-11ae-494e-966e-12db4b9daa97"
      },
      "execution_count": 21,
      "outputs": [
        {
          "output_type": "execute_result",
          "data": {
            "text/plain": [
              "[5, 15, 25, 50]"
            ]
          },
          "metadata": {},
          "execution_count": 21
        }
      ]
    },
    {
      "cell_type": "markdown",
      "source": [
        "**Python String Exercise**\n",
        "---\n",
        "\n"
      ],
      "metadata": {
        "id": "0LRQuZFIVadz"
      }
    },
    {
      "cell_type": "markdown",
      "source": [
        "**Exercise 1A: Create a string made of the first, middle and last character**"
      ],
      "metadata": {
        "id": "V3ZgugLfVhpS"
      }
    },
    {
      "cell_type": "code",
      "source": [
        "str1 = \"James\"\n",
        "\n",
        "print(str1[::2])"
      ],
      "metadata": {
        "id": "Eqns195dVfAB",
        "colab": {
          "base_uri": "https://localhost:8080/"
        },
        "outputId": "7ea68823-70b1-47c9-e12d-d3a597f2af58"
      },
      "execution_count": 22,
      "outputs": [
        {
          "output_type": "stream",
          "name": "stdout",
          "text": [
            "Jms\n"
          ]
        }
      ]
    },
    {
      "cell_type": "markdown",
      "source": [
        "**Exercise 1B: Create a string made of the middle three characters**"
      ],
      "metadata": {
        "id": "Hm8cB650VyAD"
      }
    },
    {
      "cell_type": "code",
      "source": [
        "str1 = \"JhonDipPeta\"\n",
        "\n",
        "mi = int(len(str1) / 2)\n",
        "\n",
        "res = str1[mi - 1:mi + 2]\n",
        "print(\"JhonDipPeta: Middle three chars are:\", res)\n",
        "\n",
        "str2 = \"JaSonAy\"\n",
        "mi = int(len(str2) / 2)\n",
        "\n",
        "res = str2[mi - 1:mi + 2]\n",
        "print(\"JaSonAy: Middle three chars are:\", res)"
      ],
      "metadata": {
        "id": "phttYTx3V6fC",
        "colab": {
          "base_uri": "https://localhost:8080/"
        },
        "outputId": "8496c28e-34da-4ed5-bffc-8f8f46c243e6"
      },
      "execution_count": 23,
      "outputs": [
        {
          "output_type": "stream",
          "name": "stdout",
          "text": [
            "JhonDipPeta: Middle three chars are: Dip\n",
            "JaSonAy: Middle three chars are: Son\n"
          ]
        }
      ]
    },
    {
      "cell_type": "markdown",
      "source": [
        "**Exercise 2: Append new string in the middle of a given string**"
      ],
      "metadata": {
        "id": "FgDmrt4OXNc2"
      }
    },
    {
      "cell_type": "code",
      "source": [
        "s1 = \"Ault\"\n",
        "s2 = \"Kelly\"\n",
        "\n",
        "x = int(len(s1)/2)\n",
        "y = s1[:x:]\n",
        "y = y + s2 \n",
        "y = y + s1[x:]\n",
        "y\n",
        "\n",
        "\n",
        "\n"
      ],
      "metadata": {
        "id": "3Z6N2HxBXLDw",
        "colab": {
          "base_uri": "https://localhost:8080/",
          "height": 35
        },
        "outputId": "804c61a0-0327-4a88-c168-e200fa4b71d4"
      },
      "execution_count": 24,
      "outputs": [
        {
          "output_type": "execute_result",
          "data": {
            "text/plain": [
              "'AuKellylt'"
            ],
            "application/vnd.google.colaboratory.intrinsic+json": {
              "type": "string"
            }
          },
          "metadata": {},
          "execution_count": 24
        }
      ]
    },
    {
      "cell_type": "markdown",
      "source": [
        "**Exercise 3: Create a new string made of the first, middle, and last characters of each input string**"
      ],
      "metadata": {
        "id": "4OAuTLGKPvy0"
      }
    },
    {
      "cell_type": "code",
      "source": [
        "s1 = \"America\"\n",
        "s2 = \"Japan\"\n",
        "\n",
        "x = int(len(s1)/2)\n",
        "z = int(len(s2)/2)\n",
        "y = s1[:1]\n",
        "y = y + s2[:1]\n",
        "y = y + s1[x]\n",
        "y = y + s2[z:]\n",
        "print(y)\n",
        "\n",
        "#AJrpan"
      ],
      "metadata": {
        "id": "Qy4JZMN8PwQo",
        "colab": {
          "base_uri": "https://localhost:8080/"
        },
        "outputId": "b83bc9ba-5534-445a-b707-3fe6ae526465"
      },
      "execution_count": 25,
      "outputs": [
        {
          "output_type": "stream",
          "name": "stdout",
          "text": [
            "AJrpan\n"
          ]
        }
      ]
    },
    {
      "cell_type": "markdown",
      "source": [
        "**Exercise 4: Arrange string characters such that lowercase letters should come first**"
      ],
      "metadata": {
        "id": "bFQeur37RYW5"
      }
    },
    {
      "cell_type": "code",
      "source": [
        "str1 = \"PYnAtivE\"\n",
        "\n",
        "l1 = []\n",
        "l2 = []\n",
        "for i in str1:\n",
        "  if i.islower():\n",
        "    l1.append(i)\n",
        "  else:\n",
        "    l2.append(i)\n",
        "\n",
        "y = ''.join(l1 + l2)\n",
        "print(y)\n"
      ],
      "metadata": {
        "id": "kaxuYWMWRYAQ",
        "colab": {
          "base_uri": "https://localhost:8080/"
        },
        "outputId": "94470801-41d2-469a-ad95-91df0eaa8a2d"
      },
      "execution_count": 26,
      "outputs": [
        {
          "output_type": "stream",
          "name": "stdout",
          "text": [
            "ntivPYAE\n"
          ]
        }
      ]
    },
    {
      "cell_type": "markdown",
      "source": [
        "**Exercise 5: Count all letters, digits, and special symbols from a given string**"
      ],
      "metadata": {
        "id": "imogxpLIS1Gi"
      }
    },
    {
      "cell_type": "code",
      "source": [
        "str1 = \"P@#yn26at^&i5ve\"\n",
        "\n",
        "l1 = []\n",
        "l2 = []\n",
        "l3 = []\n",
        "for i in str1:\n",
        "  if i.isdigit():\n",
        "    l1.append(i)\n",
        "  elif i.isalpha():\n",
        "    l2.append(i)\n",
        "  else:\n",
        "    l3.append(i)\n",
        "    \n",
        "\n",
        "y = ''.join(l1) ; Digits = len (y) ; print('Digits = ', Digits)\n",
        "\n",
        "y = ''.join(l2) ; Chars = len (y) ; print('Chars = ', Chars)\n",
        "\n",
        "y = ''.join(l3) ; Symbol  = len (y) ; print('Symbol = ', Symbol )\n"
      ],
      "metadata": {
        "id": "k9bfOO9FS06E",
        "colab": {
          "base_uri": "https://localhost:8080/"
        },
        "outputId": "1210eb0f-220c-4502-e75f-58d258115953"
      },
      "execution_count": 27,
      "outputs": [
        {
          "output_type": "stream",
          "name": "stdout",
          "text": [
            "Digits =  3\n",
            "Chars =  8\n",
            "Symbol =  4\n"
          ]
        }
      ]
    },
    {
      "cell_type": "markdown",
      "source": [
        "**Exercise 6: Create a mixed String using the following rules**"
      ],
      "metadata": {
        "id": "gKBG4I_aWFP9"
      }
    },
    {
      "cell_type": "code",
      "source": [
        "s1 = \"Abc\"\n",
        "s2 = \"Xyz\"\n",
        "s2 = s2[::-1]\n",
        "l1 = []\n",
        "l2 = []\n",
        "\n",
        "for i in s1:\n",
        "  l1.append(i)\n",
        "for i in s2:\n",
        "  l2.append(i)\n",
        "s3 = [i + y for i, y in zip(l1,l2)]\n",
        "s3 = ''.join(s3)\n",
        "s3"
      ],
      "metadata": {
        "id": "vmOxAByfWHBG",
        "colab": {
          "base_uri": "https://localhost:8080/",
          "height": 35
        },
        "outputId": "34d32164-a2cf-44bc-881b-cd312a357757"
      },
      "execution_count": 28,
      "outputs": [
        {
          "output_type": "execute_result",
          "data": {
            "text/plain": [
              "'AzbycX'"
            ],
            "application/vnd.google.colaboratory.intrinsic+json": {
              "type": "string"
            }
          },
          "metadata": {},
          "execution_count": 28
        }
      ]
    },
    {
      "cell_type": "markdown",
      "source": [
        "**Exercise 7: String characters balance Test**"
      ],
      "metadata": {
        "id": "7H2txtXP27iV"
      }
    },
    {
      "cell_type": "code",
      "source": [
        "s1 = \"Yn\"\n",
        "s2 = \"PYnative\"\n",
        "\n",
        "Test = True \n",
        "\n",
        "for i in s1:\n",
        "  if i in s2:\n",
        "    continue\n",
        "  else:\n",
        "    Test = False\n",
        "print(Test)\n",
        "\n",
        "s1 = \"Ynf\"\n",
        "s2 = \"PYnative\"\n",
        "\n",
        "Test = True \n",
        "\n",
        "for i in s1:\n",
        "  if i in s2:\n",
        "    continue\n",
        "  else:\n",
        "    Test = False\n",
        "print(Test)"
      ],
      "metadata": {
        "id": "PcLY_OMW29qS",
        "colab": {
          "base_uri": "https://localhost:8080/"
        },
        "outputId": "9aee6b64-7915-4bef-86dc-0a8d5f94e74e"
      },
      "execution_count": 29,
      "outputs": [
        {
          "output_type": "stream",
          "name": "stdout",
          "text": [
            "True\n",
            "False\n"
          ]
        }
      ]
    },
    {
      "cell_type": "markdown",
      "source": [
        "**Exercise 8: Find all occurrences of a substring in a given string by ignoring the case**"
      ],
      "metadata": {
        "id": "j2q49l4p4QG5"
      }
    },
    {
      "cell_type": "code",
      "source": [
        "str1 = \"Welcome to USA. usa awesome, isn't it?\"\n",
        "\n",
        "str1 = str1.lower()\n",
        "\n",
        "cont = str1.count('usa')\n",
        "\n",
        "print(\"The USA count is:\", cont)"
      ],
      "metadata": {
        "id": "phD086JV6Ibf",
        "colab": {
          "base_uri": "https://localhost:8080/"
        },
        "outputId": "fde6dbe9-671d-46ee-f734-2ac82ebd96b1"
      },
      "execution_count": 30,
      "outputs": [
        {
          "output_type": "stream",
          "name": "stdout",
          "text": [
            "The USA count is: 2\n"
          ]
        }
      ]
    },
    {
      "cell_type": "markdown",
      "source": [
        "**Exercise 9: Calculate the sum and average of the digits present in a string**"
      ],
      "metadata": {
        "id": "fDnh71m66lBV"
      }
    },
    {
      "cell_type": "code",
      "source": [
        "from sys import argv\n",
        "str1 = \"PYnative29@#8496\"\n",
        "l1 = []\n",
        "for i in str1:\n",
        "  if i.isdigit():\n",
        "   l1.append(int(i))\n",
        "x =sum(l1)\n",
        "y =len(l1)\n",
        "average = x / y \n",
        "\n",
        "\n",
        "print('Sum is:',x,'Average is:',average)"
      ],
      "metadata": {
        "id": "UzM1GFD96lUF",
        "colab": {
          "base_uri": "https://localhost:8080/"
        },
        "outputId": "c4f962a4-1568-4e80-ceba-347f223e446b"
      },
      "execution_count": 31,
      "outputs": [
        {
          "output_type": "stream",
          "name": "stdout",
          "text": [
            "Sum is: 38 Average is: 6.333333333333333\n"
          ]
        }
      ]
    },
    {
      "cell_type": "markdown",
      "source": [
        "**Exercise 10: Write a program to count occurrences of all characters within a string**"
      ],
      "metadata": {
        "id": "1bn3_iSl8KZS"
      }
    },
    {
      "cell_type": "code",
      "source": [
        "str1 = \"Apple\"\n",
        "dic = {}\n",
        "x = []\n",
        "for i in str1:\n",
        "  x.append(str1.count(i))\n",
        "  for y in x:\n",
        "    dic[i] = y\n",
        "print(dic)"
      ],
      "metadata": {
        "id": "MHOAcLi48KPC",
        "colab": {
          "base_uri": "https://localhost:8080/"
        },
        "outputId": "72f35c7d-13f6-4d54-d767-a2ca7aac1ad4"
      },
      "execution_count": 32,
      "outputs": [
        {
          "output_type": "stream",
          "name": "stdout",
          "text": [
            "{'A': 1, 'p': 2, 'l': 1, 'e': 1}\n"
          ]
        }
      ]
    },
    {
      "cell_type": "markdown",
      "source": [
        "**Exercise 11: Reverse a given string**"
      ],
      "metadata": {
        "id": "1mo3Xflf-MH9"
      }
    },
    {
      "cell_type": "code",
      "source": [
        "str1 = \"PYnative\"\n",
        "\n",
        "str1 = str1[::-1]\n",
        "\n",
        "str1\n"
      ],
      "metadata": {
        "id": "9FTdZMuZ-L53",
        "colab": {
          "base_uri": "https://localhost:8080/",
          "height": 35
        },
        "outputId": "0f852a55-1d5f-4dc7-e4d9-e32fd3308f64"
      },
      "execution_count": 33,
      "outputs": [
        {
          "output_type": "execute_result",
          "data": {
            "text/plain": [
              "'evitanYP'"
            ],
            "application/vnd.google.colaboratory.intrinsic+json": {
              "type": "string"
            }
          },
          "metadata": {},
          "execution_count": 33
        }
      ]
    },
    {
      "cell_type": "markdown",
      "source": [
        "**Exercise 12: Find the last position of a given substring**"
      ],
      "metadata": {
        "id": "g0KB7eqM-rtd"
      }
    },
    {
      "cell_type": "code",
      "source": [
        "str1 = \"Emma is a data scientist who knows Python. Emma works at google.\"\n",
        "x = str1.rfind('Emma')\n",
        "\n",
        "print('Last occurrence of Emma starts at index',x)\n"
      ],
      "metadata": {
        "id": "MbygRgyC-yQV",
        "colab": {
          "base_uri": "https://localhost:8080/"
        },
        "outputId": "9a51b7df-c7fe-488c-c864-7c16cab993b6"
      },
      "execution_count": 34,
      "outputs": [
        {
          "output_type": "stream",
          "name": "stdout",
          "text": [
            "Last occurrence of Emma starts at index 43\n"
          ]
        }
      ]
    },
    {
      "cell_type": "markdown",
      "source": [
        "**Exercise 13: Split a string on hyphens**"
      ],
      "metadata": {
        "id": "JiYZIROa-x91"
      }
    },
    {
      "cell_type": "code",
      "source": [
        "str1 = 'Emma-is-a-data-scientist'\n",
        "str2 = str1.split('-')\n",
        "print('Displaying each substring: ')\n",
        "print('\\n')\n",
        "for i in str2:\n",
        "  print('\\n',i)\n"
      ],
      "metadata": {
        "id": "o3BnDUg7_o_D",
        "colab": {
          "base_uri": "https://localhost:8080/"
        },
        "outputId": "8f81e3d6-19be-4b55-e4ea-e51f462098f6"
      },
      "execution_count": 35,
      "outputs": [
        {
          "output_type": "stream",
          "name": "stdout",
          "text": [
            "Displaying each substring: \n",
            "\n",
            "\n",
            "\n",
            " Emma\n",
            "\n",
            " is\n",
            "\n",
            " a\n",
            "\n",
            " data\n",
            "\n",
            " scientist\n"
          ]
        }
      ]
    },
    {
      "cell_type": "markdown",
      "source": [
        "**Exercise 14: Remove empty strings from a list of strings**"
      ],
      "metadata": {
        "id": "bE_unDdXpwSl"
      }
    },
    {
      "cell_type": "code",
      "source": [
        "str_list = [\"Emma\", \"Jon\", \"\", \"Kelly\", None, \"Eric\", \"\"]\n",
        "\n",
        "res_list = []\n",
        "\n",
        "for i in str_list:\n",
        "    if i:\n",
        "        res_list.append(i)\n",
        "print('Original list of sting: ')\n",
        "print(str_list)\n",
        "\n",
        "print('\\n')\n",
        "\n",
        "print('After removing empty strings')\n",
        "\n",
        "print(res_list)"
      ],
      "metadata": {
        "id": "Se6xExUzpyMH",
        "colab": {
          "base_uri": "https://localhost:8080/"
        },
        "outputId": "21f4c2e7-5f3d-401a-a3c3-62fda08c8c87"
      },
      "execution_count": 36,
      "outputs": [
        {
          "output_type": "stream",
          "name": "stdout",
          "text": [
            "Original list of sting: \n",
            "['Emma', 'Jon', '', 'Kelly', None, 'Eric', '']\n",
            "\n",
            "\n",
            "After removing empty strings\n",
            "['Emma', 'Jon', 'Kelly', 'Eric']\n"
          ]
        }
      ]
    },
    {
      "cell_type": "markdown",
      "source": [
        "**Exercise 15: Remove special symbols / punctuation from a string**"
      ],
      "metadata": {
        "id": "movhVAOut6OD"
      }
    },
    {
      "cell_type": "code",
      "source": [
        "str1 = \"/*Jon is @developer & musician\"\n",
        "x = []\n",
        "\n",
        "# I can't solve it."
      ],
      "metadata": {
        "id": "glsqb8AKt5ty"
      },
      "execution_count": 37,
      "outputs": []
    },
    {
      "cell_type": "markdown",
      "source": [
        "**Exercise 16: Removal all characters from a string except integers**"
      ],
      "metadata": {
        "id": "85OLcQxb8bF3"
      }
    },
    {
      "cell_type": "code",
      "source": [
        "str1 = 'I am 25 years and 10 months old'\n",
        "str2 = ''\n",
        "for i in str1:\n",
        "  if i.isdigit():\n",
        "      str2 += i\n",
        "print(str2)"
      ],
      "metadata": {
        "id": "oxlzc1Gc8baa",
        "colab": {
          "base_uri": "https://localhost:8080/"
        },
        "outputId": "1b428cff-236b-4ddd-c816-d1c371d7dc49"
      },
      "execution_count": 38,
      "outputs": [
        {
          "output_type": "stream",
          "name": "stdout",
          "text": [
            "2510\n"
          ]
        }
      ]
    },
    {
      "cell_type": "markdown",
      "source": [
        "**Exercise 17: Find words with both alphabets and numbers**"
      ],
      "metadata": {
        "id": "7ghfClL68zh_"
      }
    },
    {
      "cell_type": "code",
      "source": [
        "str1 = \"Emma25 is Data scientist50 and AI Expert\"\n",
        "y = str1.split()\n",
        "x = []\n",
        "\n",
        "for i in y:\n",
        "    if any(char.isalpha() for char in i) and any(char.isdigit() for char in i):\n",
        "        x.append(i)\n",
        "\n",
        "for i in x:\n",
        "    print(i)"
      ],
      "metadata": {
        "id": "XHectxXa81cW",
        "colab": {
          "base_uri": "https://localhost:8080/"
        },
        "outputId": "9f25c5dc-4834-4469-fdae-7452c823b160"
      },
      "execution_count": 39,
      "outputs": [
        {
          "output_type": "stream",
          "name": "stdout",
          "text": [
            "Emma25\n",
            "scientist50\n"
          ]
        }
      ]
    },
    {
      "cell_type": "markdown",
      "source": [
        "**Exercise 18: Replace each special symbol with # in the following string**"
      ],
      "metadata": {
        "id": "-l31WE0VAmY9"
      }
    },
    {
      "cell_type": "code",
      "source": [
        "str1 = '/*Jon is @developer & musician!!'\n",
        "# I can't solve it."
      ],
      "metadata": {
        "id": "2jNULEBNAmrY"
      },
      "execution_count": 40,
      "outputs": []
    },
    {
      "cell_type": "markdown",
      "source": [
        "**Python Tuple Exercise**\n",
        "---\n",
        "\n"
      ],
      "metadata": {
        "id": "TRbGJMXM3TfU"
      }
    },
    {
      "cell_type": "markdown",
      "source": [
        "**Exercise 1: Reverse the tuple**"
      ],
      "metadata": {
        "id": "9xcZ7fb1exwv"
      }
    },
    {
      "cell_type": "code",
      "source": [
        "tuple1 = (10, 20, 30, 40, 50)\n",
        "\n",
        "tuple1 = tuple1[::-1]\n",
        "tuple1"
      ],
      "metadata": {
        "colab": {
          "base_uri": "https://localhost:8080/"
        },
        "id": "4UGnhn4IeyMX",
        "outputId": "19c6b31d-80c6-46f9-f284-d1a104a7d729"
      },
      "execution_count": 41,
      "outputs": [
        {
          "output_type": "execute_result",
          "data": {
            "text/plain": [
              "(50, 40, 30, 20, 10)"
            ]
          },
          "metadata": {},
          "execution_count": 41
        }
      ]
    },
    {
      "cell_type": "markdown",
      "source": [
        "**Exercise 2: Access value 20 from the tuple**"
      ],
      "metadata": {
        "id": "dz1vkbc3ey2k"
      }
    },
    {
      "cell_type": "code",
      "source": [
        "tuple1 = (\"Orange\", [10, 20, 30], (5, 15, 25))\n",
        "\n",
        "print(tuple1[1][1])"
      ],
      "metadata": {
        "colab": {
          "base_uri": "https://localhost:8080/"
        },
        "id": "ldDbNGpdf2S8",
        "outputId": "85cf8f00-97d8-41a3-8238-963391ea15c8"
      },
      "execution_count": 42,
      "outputs": [
        {
          "output_type": "stream",
          "name": "stdout",
          "text": [
            "20\n"
          ]
        }
      ]
    },
    {
      "cell_type": "markdown",
      "source": [
        "**Exercise 3: Create a tuple with single item 50**"
      ],
      "metadata": {
        "id": "CwbmZ5EPeyt2"
      }
    },
    {
      "cell_type": "code",
      "source": [
        "tuple1= (50, )\n",
        "print(tuple1)"
      ],
      "metadata": {
        "colab": {
          "base_uri": "https://localhost:8080/"
        },
        "id": "B_dN96RygaVC",
        "outputId": "c7afc4b9-382b-4379-b821-fae0c131909a"
      },
      "execution_count": 43,
      "outputs": [
        {
          "output_type": "stream",
          "name": "stdout",
          "text": [
            "(50,)\n"
          ]
        }
      ]
    },
    {
      "cell_type": "markdown",
      "source": [
        "**Exercise 4: Unpack the tuple into 4 variables**"
      ],
      "metadata": {
        "id": "JT9M2ZQpeygf"
      }
    },
    {
      "cell_type": "code",
      "source": [
        "tuple1 = (10, 20, 30, 40)\n",
        "a, b, c, d = tuple1\n",
        "print(a)\n",
        "print(b)\n",
        "print(c)\n",
        "print(d)"
      ],
      "metadata": {
        "colab": {
          "base_uri": "https://localhost:8080/"
        },
        "id": "gLv4LVaNgfZv",
        "outputId": "e46889c7-250e-4b35-ae50-c02117614360"
      },
      "execution_count": 44,
      "outputs": [
        {
          "output_type": "stream",
          "name": "stdout",
          "text": [
            "10\n",
            "20\n",
            "30\n",
            "40\n"
          ]
        }
      ]
    },
    {
      "cell_type": "markdown",
      "source": [
        "**Exercise 5: Swap two tuples in Python**"
      ],
      "metadata": {
        "id": "Vcf6dqtagwI-"
      }
    },
    {
      "cell_type": "code",
      "source": [
        "tuple1 = (11, 22)\n",
        "tuple2 = (99, 88)\n",
        "tuple1, tuple2 = tuple2, tuple1\n",
        "print(tuple2)\n",
        "print(tuple1)"
      ],
      "metadata": {
        "colab": {
          "base_uri": "https://localhost:8080/"
        },
        "id": "8kyLgFvngxjK",
        "outputId": "3b21b57a-d14e-413c-c0d9-3b17d286c9a9"
      },
      "execution_count": 45,
      "outputs": [
        {
          "output_type": "stream",
          "name": "stdout",
          "text": [
            "(11, 22)\n",
            "(99, 88)\n"
          ]
        }
      ]
    },
    {
      "cell_type": "markdown",
      "source": [
        "**Exercise 6: Copy specific elements from one tuple to a new tuple**"
      ],
      "metadata": {
        "id": "gQgP9UMWhGpq"
      }
    },
    {
      "cell_type": "code",
      "source": [
        "tuple1 = (11, 22, 33, 44, 55, 66)\n",
        "tuple2 = tuple1[3:5]\n",
        "tuple2"
      ],
      "metadata": {
        "colab": {
          "base_uri": "https://localhost:8080/"
        },
        "id": "mGdF5jqnhNMB",
        "outputId": "7ce2011d-51c3-42cd-c20e-6746b09822b3"
      },
      "execution_count": 46,
      "outputs": [
        {
          "output_type": "execute_result",
          "data": {
            "text/plain": [
              "(44, 55)"
            ]
          },
          "metadata": {},
          "execution_count": 46
        }
      ]
    },
    {
      "cell_type": "markdown",
      "source": [
        "**Exercise 7: Modify the tuple**"
      ],
      "metadata": {
        "id": "4mBmXFUjhiAv"
      }
    },
    {
      "cell_type": "code",
      "source": [
        "tuple1 = (11, [22, 33], 44, 55)\n",
        "\n",
        "tuple1[1][0] = 222 \n",
        "\n",
        "tuple1"
      ],
      "metadata": {
        "colab": {
          "base_uri": "https://localhost:8080/"
        },
        "id": "NQuvyoADhhzB",
        "outputId": "e4288afe-5943-4bd2-953c-2767d97934d3"
      },
      "execution_count": 47,
      "outputs": [
        {
          "output_type": "execute_result",
          "data": {
            "text/plain": [
              "(11, [222, 33], 44, 55)"
            ]
          },
          "metadata": {},
          "execution_count": 47
        }
      ]
    },
    {
      "cell_type": "markdown",
      "source": [
        "**Exercise 8: Sort a tuple of tuples by 2nd item**"
      ],
      "metadata": {
        "id": "SvuoTfkvhx5o"
      }
    },
    {
      "cell_type": "code",
      "source": [
        "tuple1 = (('a', 23), ('b', 37), ('c', 11), ('d', 29))\n",
        "\n",
        "\n",
        "tuple1 = tuple(sorted(list(tuple1), key=lambda x: x[1]))\n",
        "print(tuple1)"
      ],
      "metadata": {
        "colab": {
          "base_uri": "https://localhost:8080/"
        },
        "id": "RLkV8ZwziAI5",
        "outputId": "153a16df-035d-4b7c-f4ff-9fada5db69fa"
      },
      "execution_count": 48,
      "outputs": [
        {
          "output_type": "stream",
          "name": "stdout",
          "text": [
            "(('c', 11), ('a', 23), ('d', 29), ('b', 37))\n"
          ]
        }
      ]
    },
    {
      "cell_type": "markdown",
      "source": [
        "**Exercise 9: Counts the number of occurrences of item\n",
        "50 from a tuple**"
      ],
      "metadata": {
        "id": "TxccWTz2nTMk"
      }
    },
    {
      "cell_type": "code",
      "source": [
        "tuple1 = (50, 10, 60, 70, 50)\n",
        "print(tuple1.count(50))"
      ],
      "metadata": {
        "colab": {
          "base_uri": "https://localhost:8080/"
        },
        "id": "24kZBk4CiAF3",
        "outputId": "d7e7cac4-dba0-4e94-df1b-d1e7de961b0f"
      },
      "execution_count": 49,
      "outputs": [
        {
          "output_type": "stream",
          "name": "stdout",
          "text": [
            "2\n"
          ]
        }
      ]
    },
    {
      "cell_type": "markdown",
      "source": [
        "**Exercise 10: Check if all items in the tuple are the same**"
      ],
      "metadata": {
        "id": "NjKYY5GRntqM"
      }
    },
    {
      "cell_type": "code",
      "source": [
        "tuple1 = (45, 45, 45, 45)\n",
        "\n",
        "def check(t):\n",
        "    return all(i == t[0] for i in t)\n",
        "\n",
        "\n",
        "print(check(tuple1))"
      ],
      "metadata": {
        "colab": {
          "base_uri": "https://localhost:8080/"
        },
        "id": "_eNKCt_SiADD",
        "outputId": "09813458-1e94-450d-fcd3-6b30e996450d"
      },
      "execution_count": 50,
      "outputs": [
        {
          "output_type": "stream",
          "name": "stdout",
          "text": [
            "True\n"
          ]
        }
      ]
    },
    {
      "cell_type": "markdown",
      "source": [
        "**Python Set Exercise**\n",
        "---\n",
        "\n"
      ],
      "metadata": {
        "id": "oZWts9c33a5F"
      }
    },
    {
      "cell_type": "markdown",
      "source": [
        "**Exercise 1: Add a list of elements to a set**"
      ],
      "metadata": {
        "id": "RptuoszUl-n9"
      }
    },
    {
      "cell_type": "code",
      "source": [
        "sample_set = {\"Yellow\", \"Orange\", \"Black\"}\n",
        "sample_list = [\"Blue\", \"Green\", \"Red\"]\n",
        "\n",
        "for i in sample_list:\n",
        "  sample_set.add(i)\n",
        "  \n",
        "print(sample_set)"
      ],
      "metadata": {
        "colab": {
          "base_uri": "https://localhost:8080/"
        },
        "id": "qm8pVK84l-ZH",
        "outputId": "729dc2c7-b67d-43b9-c24b-830ef946aa12"
      },
      "execution_count": 51,
      "outputs": [
        {
          "output_type": "stream",
          "name": "stdout",
          "text": [
            "{'Orange', 'Black', 'Red', 'Green', 'Blue', 'Yellow'}\n"
          ]
        }
      ]
    },
    {
      "cell_type": "code",
      "source": [
        "#Another Answer\n",
        "sample_set = {\"Yellow\", \"Orange\", \"Black\"}\n",
        "sample_list = [\"Blue\", \"Green\", \"Red\"]\n",
        "\n",
        "sample_set.update(sample_list)\n",
        "\n",
        "print(sample_set)"
      ],
      "metadata": {
        "colab": {
          "base_uri": "https://localhost:8080/"
        },
        "id": "WDQ7C5vXnHw8",
        "outputId": "a255850d-956e-4d2b-cf29-e752ea0e009c"
      },
      "execution_count": 52,
      "outputs": [
        {
          "output_type": "stream",
          "name": "stdout",
          "text": [
            "{'Orange', 'Black', 'Red', 'Green', 'Blue', 'Yellow'}\n"
          ]
        }
      ]
    },
    {
      "cell_type": "markdown",
      "source": [
        "**Exercise 2: Return a new set of identical items from two sets**"
      ],
      "metadata": {
        "id": "VB4EUGg8l_Lt"
      }
    },
    {
      "cell_type": "code",
      "source": [
        "set1 = {10, 20, 30, 40, 50}\n",
        "set2 = {30, 40, 50, 60, 70}\n",
        "\n",
        "set3 = set1 & set2 \n",
        "\n",
        "print(set3)"
      ],
      "metadata": {
        "colab": {
          "base_uri": "https://localhost:8080/"
        },
        "id": "ewbGHOHGl-Td",
        "outputId": "988508b0-6ec0-4f34-c8e6-2f94b4eaa32b"
      },
      "execution_count": 53,
      "outputs": [
        {
          "output_type": "stream",
          "name": "stdout",
          "text": [
            "{40, 50, 30}\n"
          ]
        }
      ]
    },
    {
      "cell_type": "markdown",
      "source": [
        "**Exercise 3: Get Only unique items from two sets**"
      ],
      "metadata": {
        "id": "GPE8UOLpmABW"
      }
    },
    {
      "cell_type": "code",
      "source": [
        "set1 = {10, 20, 30, 40, 50}\n",
        "set2 = {30, 40, 50, 60, 70}\n",
        "\n",
        "set3 = set1 | set2\n",
        "\n",
        "print(set3)"
      ],
      "metadata": {
        "colab": {
          "base_uri": "https://localhost:8080/"
        },
        "id": "x0DkSfLYl-NV",
        "outputId": "752e461c-7d69-4bf6-d34a-40f4473dea95"
      },
      "execution_count": 54,
      "outputs": [
        {
          "output_type": "stream",
          "name": "stdout",
          "text": [
            "{70, 40, 10, 50, 20, 60, 30}\n"
          ]
        }
      ]
    },
    {
      "cell_type": "markdown",
      "source": [
        "**Exercise 4: Update the first set with items that don’t exist in the second set**"
      ],
      "metadata": {
        "id": "ZOzV3jMPl_mO"
      }
    },
    {
      "cell_type": "code",
      "source": [
        "set1 = {10, 20, 30}\n",
        "set2 = {20, 40, 50}\n",
        "\n",
        "set1 = set1 - set2\n",
        "\n",
        "print('set1 ', set1)"
      ],
      "metadata": {
        "colab": {
          "base_uri": "https://localhost:8080/"
        },
        "id": "qkBV8GDzl-EF",
        "outputId": "709db269-f20e-4ae7-b281-264680a0c659"
      },
      "execution_count": 55,
      "outputs": [
        {
          "output_type": "stream",
          "name": "stdout",
          "text": [
            "set1  {10, 30}\n"
          ]
        }
      ]
    },
    {
      "cell_type": "markdown",
      "source": [
        "**Exercise 5: Remove items from the set at once**"
      ],
      "metadata": {
        "id": "LWVPzX6eosV7"
      }
    },
    {
      "cell_type": "code",
      "source": [
        "set1 = {10, 20, 30, 40, 50}\n",
        "\n",
        "for i in range(10,40):\n",
        "  if i in set1:\n",
        "    set1.remove(i)\n",
        "set1"
      ],
      "metadata": {
        "colab": {
          "base_uri": "https://localhost:8080/"
        },
        "id": "YjWdLcsvorq5",
        "outputId": "c755270f-fc11-4451-e649-6ac0cf1b3b3f"
      },
      "execution_count": 56,
      "outputs": [
        {
          "output_type": "execute_result",
          "data": {
            "text/plain": [
              "{40, 50}"
            ]
          },
          "metadata": {},
          "execution_count": 56
        }
      ]
    },
    {
      "cell_type": "code",
      "source": [
        "#Another Anwer\n",
        "\n",
        "set1 = {10, 20, 30, 40, 50}\n",
        "set1 = set1 - {10,20,30}\n",
        "print(set1)"
      ],
      "metadata": {
        "colab": {
          "base_uri": "https://localhost:8080/"
        },
        "id": "3r_V4gLUpSTf",
        "outputId": "addab6fa-4e19-4310-aca9-1c99ab29e305"
      },
      "execution_count": 57,
      "outputs": [
        {
          "output_type": "stream",
          "name": "stdout",
          "text": [
            "{40, 50}\n"
          ]
        }
      ]
    },
    {
      "cell_type": "markdown",
      "source": [
        "**Exercise 6: Return a set of elements present in Set A or B, but not both**"
      ],
      "metadata": {
        "id": "IVWffaESos2Q"
      }
    },
    {
      "cell_type": "code",
      "source": [
        "set1 = {10, 20, 30, 40, 50}\n",
        "set2 = {30, 40, 50, 60, 70}\n",
        "\n",
        "set3 = set1 ^ set2\n",
        "set3"
      ],
      "metadata": {
        "colab": {
          "base_uri": "https://localhost:8080/"
        },
        "id": "UV_nNcTmoroM",
        "outputId": "4477fd10-bb0b-436c-f0f5-88cbb8834c82"
      },
      "execution_count": 58,
      "outputs": [
        {
          "output_type": "execute_result",
          "data": {
            "text/plain": [
              "{10, 20, 60, 70}"
            ]
          },
          "metadata": {},
          "execution_count": 58
        }
      ]
    },
    {
      "cell_type": "markdown",
      "source": [
        "**Exercise 7: Check if two sets have any elements in common. If yes, display the common elements**"
      ],
      "metadata": {
        "id": "NhZgeChnotS3"
      }
    },
    {
      "cell_type": "code",
      "source": [
        "set1 = {10, 20, 30, 40, 50}\n",
        "set2 = {60, 70, 80, 90, 10}\n",
        "\n",
        "if set1.isdisjoint(set2):\n",
        "  print(\"Two sets have no items in common\")\n",
        "else:\n",
        "  print(\"Two sets have items in common\")\n",
        "  print(set1.intersection(set2))\n"
      ],
      "metadata": {
        "colab": {
          "base_uri": "https://localhost:8080/"
        },
        "id": "NqgdiUHvorlS",
        "outputId": "163f723a-0c68-4d07-c1a1-79ac42a11d43"
      },
      "execution_count": 59,
      "outputs": [
        {
          "output_type": "stream",
          "name": "stdout",
          "text": [
            "Two sets have items in common\n",
            "{10}\n"
          ]
        }
      ]
    },
    {
      "cell_type": "markdown",
      "source": [
        "**Exercise 8: Update set1 by adding items from set2, except common items**"
      ],
      "metadata": {
        "id": "K3Au4F_rotoD"
      }
    },
    {
      "cell_type": "code",
      "source": [
        "set1 = {10, 20, 30, 40, 50}\n",
        "set2 = {30, 40, 50, 60, 70}\n",
        "\n",
        "set1 = set1 ^ set2\n",
        "set1"
      ],
      "metadata": {
        "colab": {
          "base_uri": "https://localhost:8080/"
        },
        "id": "zep5Vh5XorjE",
        "outputId": "6cbfa9e8-d31f-4a64-a763-a269d16ba51d"
      },
      "execution_count": 60,
      "outputs": [
        {
          "output_type": "execute_result",
          "data": {
            "text/plain": [
              "{10, 20, 60, 70}"
            ]
          },
          "metadata": {},
          "execution_count": 60
        }
      ]
    },
    {
      "cell_type": "markdown",
      "source": [
        "**Exercise 9: Remove items from set1 that are not common to both set1 and set2**"
      ],
      "metadata": {
        "id": "1mknpLtGouAi"
      }
    },
    {
      "cell_type": "code",
      "source": [
        "set1 = {10, 20, 30, 40, 50}\n",
        "set2 = {30, 40, 50, 60, 70}\n",
        "\n",
        "set1 = set1 & set2\n",
        "set1"
      ],
      "metadata": {
        "colab": {
          "base_uri": "https://localhost:8080/"
        },
        "id": "tGM5wQlPorgB",
        "outputId": "106d8cbc-0c6b-4c02-9a4f-b4c747b61f6d"
      },
      "execution_count": 61,
      "outputs": [
        {
          "output_type": "execute_result",
          "data": {
            "text/plain": [
              "{30, 40, 50}"
            ]
          },
          "metadata": {},
          "execution_count": 61
        }
      ]
    },
    {
      "cell_type": "markdown",
      "source": [
        "**Python Dictionary Exercise**\n",
        " ---\n",
        "\n"
      ],
      "metadata": {
        "id": "DCk-Fkck2tJu"
      }
    },
    {
      "cell_type": "markdown",
      "source": [
        "**Exercise 1: Convert two lists into a dictionary**"
      ],
      "metadata": {
        "id": "aWjCAZrDxCeC"
      }
    },
    {
      "cell_type": "code",
      "source": [
        "keys = ['Ten', 'Twenty', 'Thirty']\n",
        "values = [10, 20, 30]\n",
        "\n",
        "dicstudent={}\n",
        "for key in keys:\n",
        "    for value in values:\n",
        "        dicstudent[key] = value\n",
        "        values.remove(value)\n",
        "        break\n",
        "print(dicstudent)"
      ],
      "metadata": {
        "colab": {
          "base_uri": "https://localhost:8080/"
        },
        "id": "NIvcndcO0nWe",
        "outputId": "77699525-24a8-4bc1-9fbe-1154c954c3ea"
      },
      "execution_count": 62,
      "outputs": [
        {
          "output_type": "stream",
          "name": "stdout",
          "text": [
            "{'Ten': 10, 'Twenty': 20, 'Thirty': 30}\n"
          ]
        }
      ]
    },
    {
      "cell_type": "markdown",
      "source": [
        "**Exercise 2: Merge two Python dictionaries into one**"
      ],
      "metadata": {
        "id": "MV02KnQ8shBf"
      }
    },
    {
      "cell_type": "code",
      "source": [
        "dict1 = {'Ten': 10, 'Twenty': 20, 'Thirty': 30}\n",
        "dict2 = {'Thirty': 30, 'Fourty': 40, 'Fifty': 50}\n",
        "\n",
        "dict3 = {}\n",
        "dict3 = {**dict1, **dict2}\n",
        "print(dict3)\n"
      ],
      "metadata": {
        "colab": {
          "base_uri": "https://localhost:8080/"
        },
        "id": "Jm7aFL-hseRW",
        "outputId": "5471802e-8775-45e9-fe3f-97678086321d"
      },
      "execution_count": 63,
      "outputs": [
        {
          "output_type": "stream",
          "name": "stdout",
          "text": [
            "{'Ten': 10, 'Twenty': 20, 'Thirty': 30, 'Fourty': 40, 'Fifty': 50}\n"
          ]
        }
      ]
    },
    {
      "cell_type": "markdown",
      "source": [
        "**Exercise 3: Print the value of key ‘history’ from the below dict**\n"
      ],
      "metadata": {
        "id": "W1wTBf2qr8D3"
      }
    },
    {
      "cell_type": "code",
      "source": [
        "sampleDict = { \"class\": { \"student\": { \"name\": \"Mike\", \"marks\": {\"physics\": 70, \"history\": 80}}}}\n",
        "\n",
        "print(sampleDict['class']['student']['marks']['history'])"
      ],
      "metadata": {
        "id": "N43SgTIR5G4X",
        "colab": {
          "base_uri": "https://localhost:8080/"
        },
        "outputId": "1b46b259-be16-476e-b79e-a4edbebf7ba7"
      },
      "execution_count": 64,
      "outputs": [
        {
          "output_type": "stream",
          "name": "stdout",
          "text": [
            "80\n"
          ]
        }
      ]
    },
    {
      "cell_type": "markdown",
      "source": [
        "**Exercise 4: Initialize dictionary with default values**"
      ],
      "metadata": {
        "id": "2dZD6S_u5HRS"
      }
    },
    {
      "cell_type": "code",
      "source": [
        "employees = ['Kelly', 'Emma']\n",
        "defaults = {\"designation\": 'Developer', \"salary\": 8000}\n",
        "\n",
        "\n",
        "x = dict.fromkeys(employees, defaults)\n",
        "print(x)"
      ],
      "metadata": {
        "colab": {
          "base_uri": "https://localhost:8080/"
        },
        "id": "xIhw5KCakY_3",
        "outputId": "6e9113d8-0a58-43b9-f6c5-fac871b998cb"
      },
      "execution_count": 65,
      "outputs": [
        {
          "output_type": "stream",
          "name": "stdout",
          "text": [
            "{'Kelly': {'designation': 'Developer', 'salary': 8000}, 'Emma': {'designation': 'Developer', 'salary': 8000}}\n"
          ]
        }
      ]
    },
    {
      "cell_type": "markdown",
      "source": [
        "**Exercise 5: Create a dictionary by extracting the keys from a given dictionary**"
      ],
      "metadata": {
        "id": "ALYJ8OuakZdH"
      }
    },
    {
      "cell_type": "code",
      "source": [
        "sample_dict = {\n",
        "    \"name\": \"Kelly\",\n",
        "    \"age\": 25,\n",
        "    \"salary\": 8000,\n",
        "    \"city\": \"New york\"}\n",
        "\n",
        "# Keys to extract\n",
        "keys = [\"name\", \"salary\"]\n",
        "\n",
        "newdict = {} # Create a dictionary \n",
        "for x in keys:\n",
        "  newdict[x] = sample_dict[x]\n",
        "newdict"
      ],
      "metadata": {
        "colab": {
          "base_uri": "https://localhost:8080/"
        },
        "id": "oBT01j77kYpO",
        "outputId": "fceca2bb-65d8-4973-cc62-176922a885ef"
      },
      "execution_count": 66,
      "outputs": [
        {
          "output_type": "execute_result",
          "data": {
            "text/plain": [
              "{'name': 'Kelly', 'salary': 8000}"
            ]
          },
          "metadata": {},
          "execution_count": 66
        }
      ]
    },
    {
      "cell_type": "markdown",
      "source": [
        "**Exercise 6: Delete a list of keys from a dictionary**"
      ],
      "metadata": {
        "id": "nDG4EUBFjOGA"
      }
    },
    {
      "cell_type": "code",
      "source": [
        "sample_dict = {\n",
        " \"name\": \"Kelly\",\n",
        " \"age\": 25,\n",
        " \"salary\": 8000,\n",
        " \"city\": \"New york\"\n",
        "}\n",
        "\n",
        "# Keys to remove\n",
        "keys = [\"name\", \"salary\"]\n",
        "\n",
        "for x in keys:\n",
        "  sample_dict.pop(x)\n",
        "print(sample_dict)"
      ],
      "metadata": {
        "colab": {
          "base_uri": "https://localhost:8080/"
        },
        "id": "u6r6RjR3jNnR",
        "outputId": "172ef0a9-324c-4082-a74d-e15986fb48d7"
      },
      "execution_count": 67,
      "outputs": [
        {
          "output_type": "stream",
          "name": "stdout",
          "text": [
            "{'age': 25, 'city': 'New york'}\n"
          ]
        }
      ]
    },
    {
      "cell_type": "code",
      "source": [
        "# Another answer \n",
        "sample_dict = {\n",
        " \"name\": \"Kelly\",\n",
        " \"age\": 25,\n",
        " \"salary\": 8000,\n",
        " \"city\": \"New york\"\n",
        "}\n",
        "# Keys to remove\n",
        "keys = [\"name\", \"salary\"]\n",
        "\n",
        "for x in keys:\n",
        "  del sample_dict[x]\n",
        "sample_dict"
      ],
      "metadata": {
        "colab": {
          "base_uri": "https://localhost:8080/"
        },
        "id": "NqXbphLukMlR",
        "outputId": "f4950134-89ef-4fd2-ba0f-a36cf05a6012"
      },
      "execution_count": 68,
      "outputs": [
        {
          "output_type": "execute_result",
          "data": {
            "text/plain": [
              "{'age': 25, 'city': 'New york'}"
            ]
          },
          "metadata": {},
          "execution_count": 68
        }
      ]
    },
    {
      "cell_type": "markdown",
      "source": [
        "**Exercise 7: Check if a value exists in a dictionary**"
      ],
      "metadata": {
        "id": "bqJaB07W4U4b"
      }
    },
    {
      "cell_type": "code",
      "source": [
        "sample_dict = {'a': 100, 'b': 200, 'c': 300}\n",
        "\n",
        "value = 200\n",
        "\n",
        "if value in sample_dict.values():\n",
        "  print(\"200 present in a dict\")"
      ],
      "metadata": {
        "id": "5QrZcRCQ4VTp",
        "colab": {
          "base_uri": "https://localhost:8080/"
        },
        "outputId": "c5c65396-8655-4e54-a4b0-e7d4d4c45e2d"
      },
      "execution_count": 69,
      "outputs": [
        {
          "output_type": "stream",
          "name": "stdout",
          "text": [
            "200 present in a dict\n"
          ]
        }
      ]
    },
    {
      "cell_type": "markdown",
      "source": [
        "**Exercise 8: Rename key of a dictionary**"
      ],
      "metadata": {
        "id": "E4BNTmky29X9"
      }
    },
    {
      "cell_type": "code",
      "source": [
        "sample_dict = {\n",
        " \"name\": \"Kelly\",\n",
        " \"age\":25,\n",
        " \"salary\": 8000,\n",
        " \"city\": \"New york\"\n",
        "}\n",
        "\n",
        "sample_dict['location'] = sample_dict.pop('city')\n",
        "sample_dict"
      ],
      "metadata": {
        "colab": {
          "base_uri": "https://localhost:8080/"
        },
        "id": "PfuCA0o-29uj",
        "outputId": "91ac6642-82a7-4e4e-9afb-a32336e94d0f"
      },
      "execution_count": 70,
      "outputs": [
        {
          "output_type": "execute_result",
          "data": {
            "text/plain": [
              "{'age': 25, 'location': 'New york', 'name': 'Kelly', 'salary': 8000}"
            ]
          },
          "metadata": {},
          "execution_count": 70
        }
      ]
    },
    {
      "cell_type": "markdown",
      "source": [
        "**Exercise 9: Get the key of a minimum value from the following dictionary**"
      ],
      "metadata": {
        "id": "WkpAbPUU1j4H"
      }
    },
    {
      "cell_type": "code",
      "source": [
        "sample_dict = {\n",
        " 'Physics': 82,\n",
        " 'Math': 65,\n",
        " 'history': 75\n",
        "}\n",
        "\n",
        "#print(' Min value: ',min(sample_dict.values()))\n",
        "minkey = min(sample_dict)\n",
        "print('Min Key: ',minkey)\n"
      ],
      "metadata": {
        "colab": {
          "base_uri": "https://localhost:8080/"
        },
        "id": "ZpT0NpZB0jrT",
        "outputId": "7069041c-218b-4600-9716-66943497f314"
      },
      "execution_count": 71,
      "outputs": [
        {
          "output_type": "stream",
          "name": "stdout",
          "text": [
            "Min Key:  Math\n"
          ]
        }
      ]
    },
    {
      "cell_type": "markdown",
      "source": [
        "**Exercise 10: Change value of a key in a nested dictionary**"
      ],
      "metadata": {
        "id": "fHa5S_Mx0kXS"
      }
    },
    {
      "cell_type": "code",
      "source": [
        "sample_dict = {\n",
        " 'emp1': {'name': 'Jhon', 'salary': 7500},\n",
        " 'emp2': {'name': 'Emma', 'salary': 8000},\n",
        " 'emp3': {'name': 'Brad', 'salary': 500}\n",
        "}\n",
        "sample_dict ['emp3']['salary'] = 8500\n",
        "sample_dict"
      ],
      "metadata": {
        "colab": {
          "base_uri": "https://localhost:8080/"
        },
        "id": "IMJp7GXt0j8w",
        "outputId": "89c228d6-817c-48ed-8304-e6218986b158"
      },
      "execution_count": 72,
      "outputs": [
        {
          "output_type": "execute_result",
          "data": {
            "text/plain": [
              "{'emp1': {'name': 'Jhon', 'salary': 7500},\n",
              " 'emp2': {'name': 'Emma', 'salary': 8000},\n",
              " 'emp3': {'name': 'Brad', 'salary': 8500}}"
            ]
          },
          "metadata": {},
          "execution_count": 72
        }
      ]
    }
  ]
}
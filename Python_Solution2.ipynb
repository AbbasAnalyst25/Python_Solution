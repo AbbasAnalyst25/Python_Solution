{
  "nbformat": 4,
  "nbformat_minor": 0,
  "metadata": {
    "colab": {
      "name": "Python_Solution2.ipynb",
      "provenance": [],
      "collapsed_sections": [],
      "authorship_tag": "ABX9TyN/835cJymIAjM+s4G1RUBE"
    },
    "kernelspec": {
      "name": "python3",
      "display_name": "Python 3"
    },
    "language_info": {
      "name": "python"
    }
  },
  "cells": [
    {
      "cell_type": "markdown",
      "source": [
        "**Exercise 1: Print First 10 natural numbers using while\n",
        "loop**"
      ],
      "metadata": {
        "id": "qkxF6iID6TWh"
      }
    },
    {
      "cell_type": "code",
      "source": [
        "for i in range(1,11):\n",
        "  print(i)"
      ],
      "metadata": {
        "colab": {
          "base_uri": "https://localhost:8080/"
        },
        "id": "EJP7Cmko6chw",
        "outputId": "ab37e371-b52e-4d30-fa7e-43de877a2ac9"
      },
      "execution_count": null,
      "outputs": [
        {
          "output_type": "stream",
          "name": "stdout",
          "text": [
            "1\n",
            "2\n",
            "3\n",
            "4\n",
            "5\n",
            "6\n",
            "7\n",
            "8\n",
            "9\n",
            "10\n"
          ]
        }
      ]
    },
    {
      "cell_type": "markdown",
      "source": [
        "**Exercise 2: Print the following pattern**"
      ],
      "metadata": {
        "id": "HtqCMH5e6-ZX"
      }
    },
    {
      "cell_type": "code",
      "source": [
        "n = 5\n",
        "for i in range(1, n+1):\n",
        "  for e in range(1, i+1):\n",
        "    print(e, end=\" \")\n",
        "  print(\"\")"
      ],
      "metadata": {
        "colab": {
          "base_uri": "https://localhost:8080/"
        },
        "id": "00sCPigf7Fw-",
        "outputId": "f70eae4c-bcc2-4ce9-ab10-08adfdc65453"
      },
      "execution_count": null,
      "outputs": [
        {
          "output_type": "stream",
          "name": "stdout",
          "text": [
            "1 \n",
            "1 2 \n",
            "1 2 3 \n",
            "1 2 3 4 \n",
            "1 2 3 4 5 \n"
          ]
        }
      ]
    },
    {
      "cell_type": "markdown",
      "source": [
        "**Exercise 3: Calculate the sum of all numbers from 1 to\n",
        "a given number**"
      ],
      "metadata": {
        "id": "2IyTynnJ9HxM"
      }
    },
    {
      "cell_type": "code",
      "source": [
        "sum = 0\n",
        "num = int(input(\"Enter number \"))\n",
        "\n",
        "for i in range(1, num+1):\n",
        "    sum = sum + i\n",
        "print(\"Sum is: \", sum)\n"
      ],
      "metadata": {
        "colab": {
          "base_uri": "https://localhost:8080/"
        },
        "id": "eXXTSe2-9R9L",
        "outputId": "31f62e54-f7fb-406f-8538-f436cf872fcf"
      },
      "execution_count": null,
      "outputs": [
        {
          "output_type": "stream",
          "name": "stdout",
          "text": [
            "Enter number 10\n",
            "Sum is:  55\n"
          ]
        }
      ]
    },
    {
      "cell_type": "markdown",
      "source": [
        "**Exercise 4: Write a program to print multiplication\n",
        "table of a given number**"
      ],
      "metadata": {
        "id": "NXwQZwGS_cAP"
      }
    },
    {
      "cell_type": "code",
      "source": [
        "n = int(input(\"Enter number: \"))\n",
        "for i in range(1,11):\n",
        "   print(n*i)"
      ],
      "metadata": {
        "colab": {
          "base_uri": "https://localhost:8080/"
        },
        "id": "lTIbpM3B_oRj",
        "outputId": "613abcfa-9d15-4795-a0bb-be71a9c9b461"
      },
      "execution_count": null,
      "outputs": [
        {
          "output_type": "stream",
          "name": "stdout",
          "text": [
            "Enter number: 2\n",
            "2\n",
            "4\n",
            "6\n",
            "8\n",
            "10\n",
            "12\n",
            "14\n",
            "16\n",
            "18\n",
            "20\n"
          ]
        }
      ]
    },
    {
      "cell_type": "markdown",
      "source": [
        "**Exercise 5: Display numbers from a list using loop**"
      ],
      "metadata": {
        "id": "rxin04Z3CeMY"
      }
    },
    {
      "cell_type": "code",
      "source": [
        "numbers = [12, 75, 150, 180, 145, 525, 50]\n",
        "\n",
        "for i in numbers:\n",
        "  if i > 500:\n",
        "    break\n",
        "  elif i > 150:\n",
        "    continue\n",
        "  elif i % 5 == 0:\n",
        "    print(i)"
      ],
      "metadata": {
        "id": "a_wqnOehCiFI",
        "colab": {
          "base_uri": "https://localhost:8080/"
        },
        "outputId": "ed5b1951-3e50-4997-e632-a5d16832a1c3"
      },
      "execution_count": null,
      "outputs": [
        {
          "output_type": "stream",
          "name": "stdout",
          "text": [
            "75\n",
            "150\n",
            "145\n"
          ]
        }
      ]
    },
    {
      "cell_type": "markdown",
      "source": [
        "**Exercise 6: Count the total number of digits in a\n",
        "number**"
      ],
      "metadata": {
        "id": "o5cMWyLfvOOK"
      }
    },
    {
      "cell_type": "code",
      "source": [
        "num = 75869\n",
        "count = 0\n",
        "while num != 0:\n",
        "    num = num // 10\n",
        "    count = count + 1\n",
        "print(\"Total digits are:\", count)"
      ],
      "metadata": {
        "id": "GXmcgceHvR5k",
        "colab": {
          "base_uri": "https://localhost:8080/"
        },
        "outputId": "a96517ea-7e71-4e72-9c94-083af30d1b26"
      },
      "execution_count": null,
      "outputs": [
        {
          "output_type": "stream",
          "name": "stdout",
          "text": [
            "Total digits are: 5\n"
          ]
        }
      ]
    },
    {
      "cell_type": "markdown",
      "source": [
        "**Exercise 7: Print the following pattern**"
      ],
      "metadata": {
        "id": "zsaG3GkR6Yti"
      }
    },
    {
      "cell_type": "code",
      "source": [
        "n = 5\n",
        "k = 5\n",
        "for i in range(0,n+1):\n",
        "    for j in range(k-i,0,-1):\n",
        "        print(j,end=' ')\n",
        "    print()"
      ],
      "metadata": {
        "colab": {
          "base_uri": "https://localhost:8080/"
        },
        "id": "zzIKroNn6ZGJ",
        "outputId": "b32268fa-d06e-49dd-9d5b-e4e3d2a764e1"
      },
      "execution_count": null,
      "outputs": [
        {
          "output_type": "stream",
          "name": "stdout",
          "text": [
            "5 4 3 2 1 \n",
            "4 3 2 1 \n",
            "3 2 1 \n",
            "2 1 \n",
            "1 \n",
            "\n"
          ]
        }
      ]
    },
    {
      "cell_type": "markdown",
      "source": [
        "**Exercise 8: Print list in reverse order using a loop**"
      ],
      "metadata": {
        "id": "VH-v3cCg-g5M"
      }
    },
    {
      "cell_type": "code",
      "source": [
        "list1 = [10, 20, 30, 40, 50]\n",
        "list1.reverse()\n",
        "for i in list1:\n",
        "  print(i)"
      ],
      "metadata": {
        "colab": {
          "base_uri": "https://localhost:8080/"
        },
        "id": "ywWBmofw-lng",
        "outputId": "9b0debd1-ec35-4207-e9bd-ccf9a5ce3693"
      },
      "execution_count": null,
      "outputs": [
        {
          "output_type": "stream",
          "name": "stdout",
          "text": [
            "50\n",
            "40\n",
            "30\n",
            "20\n",
            "10\n"
          ]
        }
      ]
    },
    {
      "cell_type": "markdown",
      "source": [
        "**Exercise 9: Display numbers from -10 to -1 using for\n",
        "loop**"
      ],
      "metadata": {
        "id": "eNNs4qrE_0vH"
      }
    },
    {
      "cell_type": "code",
      "source": [
        "for i in range (-10,0):\n",
        "  print(i)"
      ],
      "metadata": {
        "colab": {
          "base_uri": "https://localhost:8080/"
        },
        "id": "O9f2FRor-rWl",
        "outputId": "e8cd0c7b-c043-436e-92f3-d40d2481feb9"
      },
      "execution_count": null,
      "outputs": [
        {
          "output_type": "stream",
          "name": "stdout",
          "text": [
            "-10\n",
            "-9\n",
            "-8\n",
            "-7\n",
            "-6\n",
            "-5\n",
            "-4\n",
            "-3\n",
            "-2\n",
            "-1\n"
          ]
        }
      ]
    },
    {
      "cell_type": "markdown",
      "source": [
        "**Exercise 10: Use else block to display a message\n",
        "“Done” after successful execution of for loop**"
      ],
      "metadata": {
        "id": "hIT0SYelAcOV"
      }
    },
    {
      "cell_type": "code",
      "source": [
        "for i in range(5):\n",
        " print(i)\n",
        "else:\n",
        "  print(\"Done!\")"
      ],
      "metadata": {
        "colab": {
          "base_uri": "https://localhost:8080/"
        },
        "id": "REqppmVtAgM3",
        "outputId": "18b6e810-2fab-4a4f-8460-58df3bc840a6"
      },
      "execution_count": null,
      "outputs": [
        {
          "output_type": "stream",
          "name": "stdout",
          "text": [
            "0\n",
            "1\n",
            "2\n",
            "3\n",
            "4\n",
            "Done!\n"
          ]
        }
      ]
    },
    {
      "cell_type": "markdown",
      "source": [
        "**Exercise 11: Write a program to display all prime\n",
        "numbers within a range**"
      ],
      "metadata": {
        "id": "X4DXP3PvBAgc"
      }
    },
    {
      "cell_type": "code",
      "source": [
        "start = 25\n",
        "end = 50\n",
        "\n",
        "print(\"Prime numbers between\" ,start, \"and\", end, \"are:\")\n",
        "\n",
        "for i in range(start, end + 1):\n",
        "    if i > 1:\n",
        "        for e in range(2, i):\n",
        "            if (i % e) == 0:\n",
        "                break\n",
        "        else:\n",
        "            print(i)"
      ],
      "metadata": {
        "colab": {
          "base_uri": "https://localhost:8080/"
        },
        "id": "ltq3mvT2BFBl",
        "outputId": "6e982848-1274-4cd6-d0f5-e74fc0d96a7b"
      },
      "execution_count": null,
      "outputs": [
        {
          "output_type": "stream",
          "name": "stdout",
          "text": [
            "Prime numbers between 25 and 50 are:\n",
            "29\n",
            "31\n",
            "37\n",
            "41\n",
            "43\n",
            "47\n"
          ]
        }
      ]
    },
    {
      "cell_type": "markdown",
      "source": [
        "**Exercise 12: Display Fibonacci series up to 10 terms**"
      ],
      "metadata": {
        "id": "qkry2oKEBETC"
      }
    },
    {
      "cell_type": "code",
      "source": [
        "x = 0\n",
        "y = 1\n",
        "\n",
        "print(\"Fibonacci Sequence: \")\n",
        "\n",
        "for i in range(10):\n",
        "  print(x , end = \" \")\n",
        "  r = x + y\n",
        "  x = y\n",
        "  y = r"
      ],
      "metadata": {
        "colab": {
          "base_uri": "https://localhost:8080/"
        },
        "id": "r4X7usiKCoBy",
        "outputId": "5997669b-5add-4ad1-9627-e97a5e6013ad"
      },
      "execution_count": null,
      "outputs": [
        {
          "output_type": "stream",
          "name": "stdout",
          "text": [
            "Fibonacci Sequence: \n",
            "0 1 1 2 3 5 8 13 21 34 "
          ]
        }
      ]
    },
    {
      "cell_type": "markdown",
      "source": [
        "**Exercise 13: Find the factorial of a given number**"
      ],
      "metadata": {
        "id": "OPOGtnlbD8Ad"
      }
    },
    {
      "cell_type": "code",
      "source": [
        "x = 5\n",
        "y = 1\n",
        "\n",
        "for i in range(1, x + 1):\n",
        "     y = y * i\n",
        "print(\"The factorial of\", x, \"is\", y)\n"
      ],
      "metadata": {
        "colab": {
          "base_uri": "https://localhost:8080/"
        },
        "id": "VhAY9JgSC5_0",
        "outputId": "cb04219c-0bc8-4f1d-cfc7-82decc7e1129"
      },
      "execution_count": null,
      "outputs": [
        {
          "output_type": "stream",
          "name": "stdout",
          "text": [
            "The factorial of 5 is 120\n"
          ]
        }
      ]
    },
    {
      "cell_type": "markdown",
      "source": [
        "**Exercise 14: Reverse a given integer number**"
      ],
      "metadata": {
        "id": "WyyFln2mD7l4"
      }
    },
    {
      "cell_type": "code",
      "source": [
        "x = 76542\n",
        "y = 0\n",
        "\n",
        "while x > 0:\n",
        "    r = x % 10\n",
        "    y = (y * 10) + r\n",
        "    x = x // 10\n",
        "print(y)"
      ],
      "metadata": {
        "colab": {
          "base_uri": "https://localhost:8080/"
        },
        "id": "3wjnezx9JPS1",
        "outputId": "bd8d7bdb-072b-49a0-cd5c-ccde9fb9ef85"
      },
      "execution_count": null,
      "outputs": [
        {
          "output_type": "stream",
          "name": "stdout",
          "text": [
            "24567\n"
          ]
        }
      ]
    },
    {
      "cell_type": "markdown",
      "source": [
        "**Exercise 15: Use a loop to display elements from a given list present at odd index positions**"
      ],
      "metadata": {
        "id": "wbgHX4apKRdL"
      }
    },
    {
      "cell_type": "code",
      "source": [
        "my_list = [10, 20, 30, 40, 50, 60, 70, 80, 90, 100]\n",
        "\n",
        "for i in my_list[1::2]:\n",
        "    print(i, end=\" \")"
      ],
      "metadata": {
        "colab": {
          "base_uri": "https://localhost:8080/"
        },
        "id": "F47fd8-XKUhJ",
        "outputId": "a53766e0-c0e1-4ef7-a705-ded87ba26e29"
      },
      "execution_count": null,
      "outputs": [
        {
          "output_type": "stream",
          "name": "stdout",
          "text": [
            "20 40 60 80 100 "
          ]
        }
      ]
    },
    {
      "cell_type": "markdown",
      "source": [
        "**Exercise 16: Calculate the cube of all numbers from 1 to a given number**"
      ],
      "metadata": {
        "id": "_pJv4RYaKpHF"
      }
    },
    {
      "cell_type": "code",
      "source": [
        "x = 6\n",
        "for i in range(1, x + 1):\n",
        "    print(\"Current Number is :\", i, \" and the cube is\", (i * i * i))"
      ],
      "metadata": {
        "colab": {
          "base_uri": "https://localhost:8080/"
        },
        "id": "9jVsC6HtKrL_",
        "outputId": "1c55d9db-b05d-4ca5-bc60-36cb72a0cfba"
      },
      "execution_count": null,
      "outputs": [
        {
          "output_type": "stream",
          "name": "stdout",
          "text": [
            "Current Number is : 1  and the cube is 1\n",
            "Current Number is : 2  and the cube is 8\n",
            "Current Number is : 3  and the cube is 27\n",
            "Current Number is : 4  and the cube is 64\n",
            "Current Number is : 5  and the cube is 125\n",
            "Current Number is : 6  and the cube is 216\n"
          ]
        }
      ]
    },
    {
      "cell_type": "markdown",
      "source": [
        "**Exercise 17: Find the sum of the series upto n terms**"
      ],
      "metadata": {
        "id": "B8V3uMsJK7pe"
      }
    },
    {
      "cell_type": "code",
      "source": [
        "n = 5\n",
        "x = 2\n",
        "sum = 0\n",
        "for i in range(0, n):\n",
        "    sum += x\n",
        "    x = x * 10 + 2\n",
        "print(sum)"
      ],
      "metadata": {
        "colab": {
          "base_uri": "https://localhost:8080/"
        },
        "id": "6-CnfTBdK6_u",
        "outputId": "0827eac3-be84-4cfd-9e75-e5699838692a"
      },
      "execution_count": null,
      "outputs": [
        {
          "output_type": "stream",
          "name": "stdout",
          "text": [
            "24690\n"
          ]
        }
      ]
    },
    {
      "cell_type": "markdown",
      "source": [
        "**Exercise 18: Print the following pattern**"
      ],
      "metadata": {
        "id": "-QpbgAYLLhGg"
      }
    },
    {
      "cell_type": "code",
      "source": [
        "x = 5\n",
        "for i in range(0, x):\n",
        "    for j in range(0, i + 1):\n",
        "        print(\"*\", end=' ')\n",
        "    print(\"\")\n",
        "\n",
        "for i in range(x, 0, -1):\n",
        "    for j in range(0, i - 1):\n",
        "        print(\"*\", end=' ')\n",
        "    print(\"\")"
      ],
      "metadata": {
        "colab": {
          "base_uri": "https://localhost:8080/"
        },
        "id": "g-8WyLsBLgO3",
        "outputId": "43e3253d-8520-4752-886f-b20b8453fbe1"
      },
      "execution_count": null,
      "outputs": [
        {
          "output_type": "stream",
          "name": "stdout",
          "text": [
            "* \n",
            "* * \n",
            "* * * \n",
            "* * * * \n",
            "* * * * * \n",
            "* * * * \n",
            "* * * \n",
            "* * \n",
            "* \n",
            "\n"
          ]
        }
      ]
    }
  ]
}
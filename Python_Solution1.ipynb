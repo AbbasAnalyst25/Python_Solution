{
  "nbformat": 4,
  "nbformat_minor": 0,
  "metadata": {
    "colab": {
      "name": " Python_Solution1.ipynb",
      "provenance": [],
      "collapsed_sections": [],
      "authorship_tag": "ABX9TyNPJLUQxxd8luDt7nZyivFO"
    },
    "kernelspec": {
      "name": "python3",
      "display_name": "Python 3"
    },
    "language_info": {
      "name": "python"
    }
  },
  "cells": [
    {
      "cell_type": "markdown",
      "source": [
        "**Exercise 1: Create a function in Python**"
      ],
      "metadata": {
        "id": "UaGGbzkVOEGb"
      }
    },
    {
      "cell_type": "code",
      "source": [
        "def student(name,age):\n",
        "  print(name,age)\n",
        "\n",
        "student(\"Abbas Aboukura\", 24)"
      ],
      "metadata": {
        "colab": {
          "base_uri": "https://localhost:8080/"
        },
        "id": "FcuOdshtOGwl",
        "outputId": "8274a9f8-67d1-49d8-f56e-4fc539979912"
      },
      "execution_count": null,
      "outputs": [
        {
          "output_type": "stream",
          "name": "stdout",
          "text": [
            "Abbas Aboukura 24\n"
          ]
        }
      ]
    },
    {
      "cell_type": "markdown",
      "source": [
        "**Exercise 2: Create a function with variable length of\n",
        "arguments**"
      ],
      "metadata": {
        "id": "ThENpxd-OvF1"
      }
    },
    {
      "cell_type": "code",
      "source": [
        "def func1(*val):\n",
        "  print(\"Printing values\")\n",
        "  for i in val:\n",
        "    print(i)\n",
        "\n",
        "func1(20, 40, 60)\n",
        "func1(80, 100)\n",
        "\n"
      ],
      "metadata": {
        "colab": {
          "base_uri": "https://localhost:8080/"
        },
        "id": "aPtLaz8COR9B",
        "outputId": "0e82feb2-6246-46dd-cbec-6d27f2f31f84"
      },
      "execution_count": null,
      "outputs": [
        {
          "output_type": "stream",
          "name": "stdout",
          "text": [
            "Printing values\n",
            "20\n",
            "40\n",
            "60\n",
            "Printing values\n",
            "80\n",
            "100\n"
          ]
        }
      ]
    },
    {
      "cell_type": "markdown",
      "source": [
        "**Exercise 3: Return multiple values from a function**"
      ],
      "metadata": {
        "id": "grTc3huQU2_n"
      }
    },
    {
      "cell_type": "code",
      "source": [
        "def calculation(a, b):\n",
        "    x = a + b #addition\n",
        "    y = a - b #subtraction\n",
        "    return x, y\n",
        "res = calculation(40, 10)\n",
        "print(res)\n"
      ],
      "metadata": {
        "colab": {
          "base_uri": "https://localhost:8080/"
        },
        "id": "6fD7cWN4PMl_",
        "outputId": "eb70b558-44f9-4279-d964-b2e8a3b916c9"
      },
      "execution_count": null,
      "outputs": [
        {
          "output_type": "stream",
          "name": "stdout",
          "text": [
            "(50, 30)\n"
          ]
        }
      ]
    },
    {
      "cell_type": "markdown",
      "source": [
        "**Exercise 4: Create a function with default argument**"
      ],
      "metadata": {
        "id": "pT-S4FuNU_Oe"
      }
    },
    {
      "cell_type": "code",
      "source": [
        "def showEmployee(name,salary = \"9000\"):\n",
        "    print(\"Name:\", name, \"Salary:\", salary)\n",
        "\n",
        "showEmployee(\"Ben\", 12000)\n",
        "showEmployee(\"Jessa\")\n",
        "\n"
      ],
      "metadata": {
        "colab": {
          "base_uri": "https://localhost:8080/"
        },
        "id": "M6eH6aEOUWPA",
        "outputId": "343e2311-5bf1-44f8-e24e-d436b4941661"
      },
      "execution_count": null,
      "outputs": [
        {
          "output_type": "stream",
          "name": "stdout",
          "text": [
            "Name: Ben Salary: 12000\n",
            "Name: Jessa Salary: 9000\n"
          ]
        }
      ]
    },
    {
      "cell_type": "markdown",
      "source": [
        "**Exercise 5: Create an inner function to calculate the\n",
        "addition in the following way**"
      ],
      "metadata": {
        "id": "c24TPKWYVuvk"
      }
    },
    {
      "cell_type": "code",
      "source": [
        "def outer(a,b):\n",
        "    def inner(a,b):\n",
        "        return a + b\n",
        "\n",
        "    return inner(a, b) + 5\n",
        "\n",
        "\n",
        "print(outer(5, 10))"
      ],
      "metadata": {
        "colab": {
          "base_uri": "https://localhost:8080/"
        },
        "id": "LSmxEGvNVORW",
        "outputId": "050e2718-687e-4ef4-8a54-8154b6f724b1"
      },
      "execution_count": null,
      "outputs": [
        {
          "output_type": "stream",
          "name": "stdout",
          "text": [
            "20\n"
          ]
        }
      ]
    },
    {
      "cell_type": "markdown",
      "source": [
        "**Exercise 6: Create a recursive function**"
      ],
      "metadata": {
        "id": "tzaoaPfGdEdf"
      }
    },
    {
      "cell_type": "code",
      "source": [
        "def addition(num):\n",
        "    if num:\n",
        "        # call same function by reducing number by 1\n",
        "        return num + addition(num - 1)\n",
        "    else:\n",
        "        return 0\n",
        "\n",
        "res = addition(10)\n",
        "print(res)\n"
      ],
      "metadata": {
        "colab": {
          "base_uri": "https://localhost:8080/"
        },
        "id": "BZougIc_V8f0",
        "outputId": "47a8ad17-33dc-4f81-df4b-e15ead3ea1fd"
      },
      "execution_count": null,
      "outputs": [
        {
          "output_type": "stream",
          "name": "stdout",
          "text": [
            "55\n"
          ]
        }
      ]
    },
    {
      "cell_type": "markdown",
      "source": [
        "**Exercise 7: Assign a different name to function and call\n",
        "it through the new name**"
      ],
      "metadata": {
        "id": "CDb8jWnsRzoY"
      }
    },
    {
      "cell_type": "code",
      "source": [
        "def display_student(name, age):\n",
        "\n",
        "    print(name, age)\n",
        "\n",
        "display_student(\"Emma\", 26)\n",
        "\n",
        "show_student= display_student\n",
        "\n",
        "show_student(\"Emma\", 26)"
      ],
      "metadata": {
        "colab": {
          "base_uri": "https://localhost:8080/"
        },
        "id": "eu33I0PgR33V",
        "outputId": "9319e137-f384-4d4b-e1c3-436f15ca37b8"
      },
      "execution_count": null,
      "outputs": [
        {
          "output_type": "stream",
          "name": "stdout",
          "text": [
            "Emma 26\n",
            "Emma 26\n"
          ]
        }
      ]
    },
    {
      "cell_type": "markdown",
      "source": [
        "**Exercise 8: Generate a Python list of all the even\n",
        "numbers between 4 to 30**"
      ],
      "metadata": {
        "id": "F5XHiuaaThSC"
      }
    },
    {
      "cell_type": "code",
      "source": [
        "print(list(range(4, 30, 2))) # --> Anwser 1\n",
        "\n",
        "print(\" \", end= \"\\n\")\n",
        "\n",
        "\n",
        "def num(x): # --> Anwser 2 \n",
        "    y = []\n",
        "    for n in x:\n",
        "        if n % 2 == 0:\n",
        "            y.append(n)\n",
        "    return y\n",
        "print(num(range(4,30)))"
      ],
      "metadata": {
        "colab": {
          "base_uri": "https://localhost:8080/"
        },
        "id": "H7SBYNZTTgt8",
        "outputId": "301eb91b-c149-48d4-f8e6-41f7ac4adeb9"
      },
      "execution_count": null,
      "outputs": [
        {
          "output_type": "stream",
          "name": "stdout",
          "text": [
            "[4, 6, 8, 10, 12, 14, 16, 18, 20, 22, 24, 26, 28]\n",
            " \n",
            "[4, 6, 8, 10, 12, 14, 16, 18, 20, 22, 24, 26, 28]\n"
          ]
        }
      ]
    },
    {
      "cell_type": "markdown",
      "source": [
        "**Exercise 9: Find the largest item from a given list**"
      ],
      "metadata": {
        "id": "pfE5LjhuU1kR"
      }
    },
    {
      "cell_type": "code",
      "source": [
        "x = [4, 6, 8, 24, 12, 2]\n",
        "print(max(x))"
      ],
      "metadata": {
        "colab": {
          "base_uri": "https://localhost:8080/"
        },
        "id": "dpZAl5DDSbr_",
        "outputId": "b7644a1b-cdb8-4b25-bd1a-32b04c6d454f"
      },
      "execution_count": null,
      "outputs": [
        {
          "output_type": "stream",
          "name": "stdout",
          "text": [
            "24\n"
          ]
        }
      ]
    }
  ]
}